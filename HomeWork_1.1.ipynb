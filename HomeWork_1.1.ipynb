{
 "cells": [
  {
   "cell_type": "code",
   "execution_count": null,
   "id": "c405c894",
   "metadata": {},
   "outputs": [],
   "source": [
    "# Homework 1"
   ]
  },
  {
   "cell_type": "code",
   "execution_count": 3,
   "id": "e73f4cd1",
   "metadata": {},
   "outputs": [],
   "source": [
    "#For checking inbuilt datasets in R\n",
    "\n",
    "data()"
   ]
  },
  {
   "cell_type": "code",
   "execution_count": 4,
   "id": "94eddf7f",
   "metadata": {},
   "outputs": [],
   "source": [
    "#Loading 'airquality' dataset to the directory\n",
    "\n",
    "data(airquality)"
   ]
  },
  {
   "cell_type": "code",
   "execution_count": 19,
   "id": "ff1cce13",
   "metadata": {},
   "outputs": [
    {
     "data": {
      "text/html": [
       "<table>\n",
       "<thead><tr><th scope=col>Ozone</th><th scope=col>Solar.R</th><th scope=col>Wind</th><th scope=col>Temp</th><th scope=col>Month</th><th scope=col>Day</th></tr></thead>\n",
       "<tbody>\n",
       "\t<tr><td>41  </td><td>190 </td><td> 7.4</td><td>67  </td><td>5   </td><td>1   </td></tr>\n",
       "\t<tr><td>36  </td><td>118 </td><td> 8.0</td><td>72  </td><td>5   </td><td>2   </td></tr>\n",
       "\t<tr><td>12  </td><td>149 </td><td>12.6</td><td>74  </td><td>5   </td><td>3   </td></tr>\n",
       "\t<tr><td>18  </td><td>313 </td><td>11.5</td><td>62  </td><td>5   </td><td>4   </td></tr>\n",
       "\t<tr><td>NA  </td><td> NA </td><td>14.3</td><td>56  </td><td>5   </td><td>5   </td></tr>\n",
       "</tbody>\n",
       "</table>\n"
      ],
      "text/latex": [
       "\\begin{tabular}{r|llllll}\n",
       " Ozone & Solar.R & Wind & Temp & Month & Day\\\\\n",
       "\\hline\n",
       "\t 41   & 190  &  7.4 & 67   & 5    & 1   \\\\\n",
       "\t 36   & 118  &  8.0 & 72   & 5    & 2   \\\\\n",
       "\t 12   & 149  & 12.6 & 74   & 5    & 3   \\\\\n",
       "\t 18   & 313  & 11.5 & 62   & 5    & 4   \\\\\n",
       "\t NA   &  NA  & 14.3 & 56   & 5    & 5   \\\\\n",
       "\\end{tabular}\n"
      ],
      "text/markdown": [
       "\n",
       "| Ozone | Solar.R | Wind | Temp | Month | Day |\n",
       "|---|---|---|---|---|---|\n",
       "| 41   | 190  |  7.4 | 67   | 5    | 1    |\n",
       "| 36   | 118  |  8.0 | 72   | 5    | 2    |\n",
       "| 12   | 149  | 12.6 | 74   | 5    | 3    |\n",
       "| 18   | 313  | 11.5 | 62   | 5    | 4    |\n",
       "| NA   |  NA  | 14.3 | 56   | 5    | 5    |\n",
       "\n"
      ],
      "text/plain": [
       "  Ozone Solar.R Wind Temp Month Day\n",
       "1 41    190      7.4 67   5     1  \n",
       "2 36    118      8.0 72   5     2  \n",
       "3 12    149     12.6 74   5     3  \n",
       "4 18    313     11.5 62   5     4  \n",
       "5 NA     NA     14.3 56   5     5  "
      ]
     },
     "metadata": {},
     "output_type": "display_data"
    }
   ],
   "source": [
    "#Return the first 5 observations of dataset\n",
    "\n",
    "head(airquality,5)"
   ]
  },
  {
   "cell_type": "code",
   "execution_count": 21,
   "id": "bfdfccfb",
   "metadata": {},
   "outputs": [
    {
     "data": {
      "text/html": [
       "<ol class=list-inline>\n",
       "\t<li>153</li>\n",
       "\t<li>6</li>\n",
       "</ol>\n"
      ],
      "text/latex": [
       "\\begin{enumerate*}\n",
       "\\item 153\n",
       "\\item 6\n",
       "\\end{enumerate*}\n"
      ],
      "text/markdown": [
       "1. 153\n",
       "2. 6\n",
       "\n",
       "\n"
      ],
      "text/plain": [
       "[1] 153   6"
      ]
     },
     "metadata": {},
     "output_type": "display_data"
    }
   ],
   "source": [
    "# a. Checking the dimensions of the dataset\n",
    "\n",
    "dim(airquality)"
   ]
  },
  {
   "cell_type": "code",
   "execution_count": 24,
   "id": "553ea83b",
   "metadata": {},
   "outputs": [
    {
     "data": {
      "text/html": [
       "<strong>Solar.R:</strong> 7"
      ],
      "text/latex": [
       "\\textbf{Solar.R:} 7"
      ],
      "text/markdown": [
       "**Solar.R:** 7"
      ],
      "text/plain": [
       "Solar.R \n",
       "      7 "
      ]
     },
     "metadata": {},
     "output_type": "display_data"
    }
   ],
   "source": [
    "# b. No.of missing solar measurements\n",
    "\n",
    "colSums(is.na(airquality[c('Solar.R')]))"
   ]
  },
  {
   "cell_type": "code",
   "execution_count": 48,
   "id": "3dbf2ca9",
   "metadata": {},
   "outputs": [
    {
     "data": {
      "text/html": [
       "<dl class=dl-horizontal>\n",
       "\t<dt>Ozone</dt>\n",
       "\t\t<dd>&lt;NA&gt;</dd>\n",
       "\t<dt>Solar.R</dt>\n",
       "\t\t<dd>&lt;NA&gt;</dd>\n",
       "\t<dt>Wind</dt>\n",
       "\t\t<dd>9.95751633986928</dd>\n",
       "\t<dt>Temp</dt>\n",
       "\t\t<dd>77.8823529411765</dd>\n",
       "</dl>\n"
      ],
      "text/latex": [
       "\\begin{description*}\n",
       "\\item[Ozone] <NA>\n",
       "\\item[Solar.R] <NA>\n",
       "\\item[Wind] 9.95751633986928\n",
       "\\item[Temp] 77.8823529411765\n",
       "\\end{description*}\n"
      ],
      "text/markdown": [
       "Ozone\n",
       ":   &lt;NA&gt;Solar.R\n",
       ":   &lt;NA&gt;Wind\n",
       ":   9.95751633986928Temp\n",
       ":   77.8823529411765\n",
       "\n"
      ],
      "text/plain": [
       "    Ozone   Solar.R      Wind      Temp \n",
       "       NA        NA  9.957516 77.882353 "
      ]
     },
     "metadata": {},
     "output_type": "display_data"
    }
   ],
   "source": [
    "# c. Averages for: ozone, solar, wind and temp  - Method 1 using colMeans\n",
    "\n",
    "colMeans(airquality[c('Ozone','Solar.R','Wind','Temp')])"
   ]
  },
  {
   "cell_type": "code",
   "execution_count": 60,
   "id": "5fa52b5f",
   "metadata": {},
   "outputs": [
    {
     "data": {
      "text/html": [
       "<dl class=dl-horizontal>\n",
       "\t<dt>Ozone</dt>\n",
       "\t\t<dd>&lt;NA&gt;</dd>\n",
       "\t<dt>Solar.R</dt>\n",
       "\t\t<dd>&lt;NA&gt;</dd>\n",
       "\t<dt>Wind</dt>\n",
       "\t\t<dd>9.95751633986928</dd>\n",
       "\t<dt>Temp</dt>\n",
       "\t\t<dd>77.8823529411765</dd>\n",
       "</dl>\n"
      ],
      "text/latex": [
       "\\begin{description*}\n",
       "\\item[Ozone] <NA>\n",
       "\\item[Solar.R] <NA>\n",
       "\\item[Wind] 9.95751633986928\n",
       "\\item[Temp] 77.8823529411765\n",
       "\\end{description*}\n"
      ],
      "text/markdown": [
       "Ozone\n",
       ":   &lt;NA&gt;Solar.R\n",
       ":   &lt;NA&gt;Wind\n",
       ":   9.95751633986928Temp\n",
       ":   77.8823529411765\n",
       "\n"
      ],
      "text/plain": [
       "    Ozone   Solar.R      Wind      Temp \n",
       "       NA        NA  9.957516 77.882353 "
      ]
     },
     "metadata": {},
     "output_type": "display_data"
    }
   ],
   "source": [
    "# c. Averages for: ozone, solar, wind and temp  - Method 2 using mean\n",
    "\n",
    "apply(airquality[c('Ozone','Solar.R','Wind','Temp')],2,'mean')\n"
   ]
  },
  {
   "cell_type": "code",
   "execution_count": 68,
   "id": "ed99876d",
   "metadata": {},
   "outputs": [
    {
     "data": {
      "text/html": [
       "<table>\n",
       "<thead><tr><th></th><th scope=col>Ozone</th><th scope=col>Solar.R</th><th scope=col>Wind</th><th scope=col>Temp</th><th scope=col>Month</th><th scope=col>Day</th></tr></thead>\n",
       "<tbody>\n",
       "\t<tr><th scope=row>1</th><td> 41 </td><td>190 </td><td> 7.4</td><td>67  </td><td>5   </td><td> 1  </td></tr>\n",
       "\t<tr><th scope=row>2</th><td> 36 </td><td>118 </td><td> 8.0</td><td>72  </td><td>5   </td><td> 2  </td></tr>\n",
       "\t<tr><th scope=row>3</th><td> 12 </td><td>149 </td><td>12.6</td><td>74  </td><td>5   </td><td> 3  </td></tr>\n",
       "\t<tr><th scope=row>4</th><td> 18 </td><td>313 </td><td>11.5</td><td>62  </td><td>5   </td><td> 4  </td></tr>\n",
       "\t<tr><th scope=row>7</th><td> 23 </td><td>299 </td><td> 8.6</td><td>65  </td><td>5   </td><td> 7  </td></tr>\n",
       "\t<tr><th scope=row>8</th><td> 19 </td><td> 99 </td><td>13.8</td><td>59  </td><td>5   </td><td> 8  </td></tr>\n",
       "\t<tr><th scope=row>9</th><td>  8 </td><td> 19 </td><td>20.1</td><td>61  </td><td>5   </td><td> 9  </td></tr>\n",
       "\t<tr><th scope=row>12</th><td> 16 </td><td>256 </td><td> 9.7</td><td>69  </td><td>5   </td><td>12  </td></tr>\n",
       "\t<tr><th scope=row>13</th><td> 11 </td><td>290 </td><td> 9.2</td><td>66  </td><td>5   </td><td>13  </td></tr>\n",
       "\t<tr><th scope=row>14</th><td> 14 </td><td>274 </td><td>10.9</td><td>68  </td><td>5   </td><td>14  </td></tr>\n",
       "\t<tr><th scope=row>15</th><td> 18 </td><td> 65 </td><td>13.2</td><td>58  </td><td>5   </td><td>15  </td></tr>\n",
       "\t<tr><th scope=row>16</th><td> 14 </td><td>334 </td><td>11.5</td><td>64  </td><td>5   </td><td>16  </td></tr>\n",
       "\t<tr><th scope=row>17</th><td> 34 </td><td>307 </td><td>12.0</td><td>66  </td><td>5   </td><td>17  </td></tr>\n",
       "\t<tr><th scope=row>18</th><td>  6 </td><td> 78 </td><td>18.4</td><td>57  </td><td>5   </td><td>18  </td></tr>\n",
       "\t<tr><th scope=row>19</th><td> 30 </td><td>322 </td><td>11.5</td><td>68  </td><td>5   </td><td>19  </td></tr>\n",
       "\t<tr><th scope=row>20</th><td> 11 </td><td> 44 </td><td> 9.7</td><td>62  </td><td>5   </td><td>20  </td></tr>\n",
       "\t<tr><th scope=row>21</th><td>  1 </td><td>  8 </td><td> 9.7</td><td>59  </td><td>5   </td><td>21  </td></tr>\n",
       "\t<tr><th scope=row>22</th><td> 11 </td><td>320 </td><td>16.6</td><td>73  </td><td>5   </td><td>22  </td></tr>\n",
       "\t<tr><th scope=row>23</th><td>  4 </td><td> 25 </td><td> 9.7</td><td>61  </td><td>5   </td><td>23  </td></tr>\n",
       "\t<tr><th scope=row>24</th><td> 32 </td><td> 92 </td><td>12.0</td><td>61  </td><td>5   </td><td>24  </td></tr>\n",
       "\t<tr><th scope=row>28</th><td> 23 </td><td> 13 </td><td>12.0</td><td>67  </td><td>5   </td><td>28  </td></tr>\n",
       "\t<tr><th scope=row>29</th><td> 45 </td><td>252 </td><td>14.9</td><td>81  </td><td>5   </td><td>29  </td></tr>\n",
       "\t<tr><th scope=row>30</th><td>115 </td><td>223 </td><td> 5.7</td><td>79  </td><td>5   </td><td>30  </td></tr>\n",
       "\t<tr><th scope=row>31</th><td> 37 </td><td>279 </td><td> 7.4</td><td>76  </td><td>5   </td><td>31  </td></tr>\n",
       "\t<tr><th scope=row>38</th><td> 29 </td><td>127 </td><td> 9.7</td><td>82  </td><td>6   </td><td> 7  </td></tr>\n",
       "\t<tr><th scope=row>40</th><td> 71 </td><td>291 </td><td>13.8</td><td>90  </td><td>6   </td><td> 9  </td></tr>\n",
       "\t<tr><th scope=row>41</th><td> 39 </td><td>323 </td><td>11.5</td><td>87  </td><td>6   </td><td>10  </td></tr>\n",
       "\t<tr><th scope=row>44</th><td> 23 </td><td>148 </td><td> 8.0</td><td>82  </td><td>6   </td><td>13  </td></tr>\n",
       "\t<tr><th scope=row>47</th><td> 21 </td><td>191 </td><td>14.9</td><td>77  </td><td>6   </td><td>16  </td></tr>\n",
       "\t<tr><th scope=row>48</th><td> 37 </td><td>284 </td><td>20.7</td><td>72  </td><td>6   </td><td>17  </td></tr>\n",
       "\t<tr><th scope=row>...</th><td>...</td><td>...</td><td>...</td><td>...</td><td>...</td><td>...</td></tr>\n",
       "\t<tr><th scope=row>123</th><td>85  </td><td>188 </td><td> 6.3</td><td>94  </td><td>8   </td><td>31  </td></tr>\n",
       "\t<tr><th scope=row>124</th><td>96  </td><td>167 </td><td> 6.9</td><td>91  </td><td>9   </td><td> 1  </td></tr>\n",
       "\t<tr><th scope=row>125</th><td>78  </td><td>197 </td><td> 5.1</td><td>92  </td><td>9   </td><td> 2  </td></tr>\n",
       "\t<tr><th scope=row>126</th><td>73  </td><td>183 </td><td> 2.8</td><td>93  </td><td>9   </td><td> 3  </td></tr>\n",
       "\t<tr><th scope=row>127</th><td>91  </td><td>189 </td><td> 4.6</td><td>93  </td><td>9   </td><td> 4  </td></tr>\n",
       "\t<tr><th scope=row>128</th><td>47  </td><td> 95 </td><td> 7.4</td><td>87  </td><td>9   </td><td> 5  </td></tr>\n",
       "\t<tr><th scope=row>129</th><td>32  </td><td> 92 </td><td>15.5</td><td>84  </td><td>9   </td><td> 6  </td></tr>\n",
       "\t<tr><th scope=row>130</th><td>20  </td><td>252 </td><td>10.9</td><td>80  </td><td>9   </td><td> 7  </td></tr>\n",
       "\t<tr><th scope=row>131</th><td>23  </td><td>220 </td><td>10.3</td><td>78  </td><td>9   </td><td> 8  </td></tr>\n",
       "\t<tr><th scope=row>132</th><td>21  </td><td>230 </td><td>10.9</td><td>75  </td><td>9   </td><td> 9  </td></tr>\n",
       "\t<tr><th scope=row>133</th><td>24  </td><td>259 </td><td> 9.7</td><td>73  </td><td>9   </td><td>10  </td></tr>\n",
       "\t<tr><th scope=row>134</th><td>44  </td><td>236 </td><td>14.9</td><td>81  </td><td>9   </td><td>11  </td></tr>\n",
       "\t<tr><th scope=row>135</th><td>21  </td><td>259 </td><td>15.5</td><td>76  </td><td>9   </td><td>12  </td></tr>\n",
       "\t<tr><th scope=row>136</th><td>28  </td><td>238 </td><td> 6.3</td><td>77  </td><td>9   </td><td>13  </td></tr>\n",
       "\t<tr><th scope=row>137</th><td> 9  </td><td> 24 </td><td>10.9</td><td>71  </td><td>9   </td><td>14  </td></tr>\n",
       "\t<tr><th scope=row>138</th><td>13  </td><td>112 </td><td>11.5</td><td>71  </td><td>9   </td><td>15  </td></tr>\n",
       "\t<tr><th scope=row>139</th><td>46  </td><td>237 </td><td> 6.9</td><td>78  </td><td>9   </td><td>16  </td></tr>\n",
       "\t<tr><th scope=row>140</th><td>18  </td><td>224 </td><td>13.8</td><td>67  </td><td>9   </td><td>17  </td></tr>\n",
       "\t<tr><th scope=row>141</th><td>13  </td><td> 27 </td><td>10.3</td><td>76  </td><td>9   </td><td>18  </td></tr>\n",
       "\t<tr><th scope=row>142</th><td>24  </td><td>238 </td><td>10.3</td><td>68  </td><td>9   </td><td>19  </td></tr>\n",
       "\t<tr><th scope=row>143</th><td>16  </td><td>201 </td><td> 8.0</td><td>82  </td><td>9   </td><td>20  </td></tr>\n",
       "\t<tr><th scope=row>144</th><td>13  </td><td>238 </td><td>12.6</td><td>64  </td><td>9   </td><td>21  </td></tr>\n",
       "\t<tr><th scope=row>145</th><td>23  </td><td> 14 </td><td> 9.2</td><td>71  </td><td>9   </td><td>22  </td></tr>\n",
       "\t<tr><th scope=row>146</th><td>36  </td><td>139 </td><td>10.3</td><td>81  </td><td>9   </td><td>23  </td></tr>\n",
       "\t<tr><th scope=row>147</th><td> 7  </td><td> 49 </td><td>10.3</td><td>69  </td><td>9   </td><td>24  </td></tr>\n",
       "\t<tr><th scope=row>148</th><td>14  </td><td> 20 </td><td>16.6</td><td>63  </td><td>9   </td><td>25  </td></tr>\n",
       "\t<tr><th scope=row>149</th><td>30  </td><td>193 </td><td> 6.9</td><td>70  </td><td>9   </td><td>26  </td></tr>\n",
       "\t<tr><th scope=row>151</th><td>14  </td><td>191 </td><td>14.3</td><td>75  </td><td>9   </td><td>28  </td></tr>\n",
       "\t<tr><th scope=row>152</th><td>18  </td><td>131 </td><td> 8.0</td><td>76  </td><td>9   </td><td>29  </td></tr>\n",
       "\t<tr><th scope=row>153</th><td>20  </td><td>223 </td><td>11.5</td><td>68  </td><td>9   </td><td>30  </td></tr>\n",
       "</tbody>\n",
       "</table>\n"
      ],
      "text/latex": [
       "\\begin{tabular}{r|llllll}\n",
       "  & Ozone & Solar.R & Wind & Temp & Month & Day\\\\\n",
       "\\hline\n",
       "\t1 &  41  & 190  &  7.4 & 67   & 5    &  1  \\\\\n",
       "\t2 &  36  & 118  &  8.0 & 72   & 5    &  2  \\\\\n",
       "\t3 &  12  & 149  & 12.6 & 74   & 5    &  3  \\\\\n",
       "\t4 &  18  & 313  & 11.5 & 62   & 5    &  4  \\\\\n",
       "\t7 &  23  & 299  &  8.6 & 65   & 5    &  7  \\\\\n",
       "\t8 &  19  &  99  & 13.8 & 59   & 5    &  8  \\\\\n",
       "\t9 &   8  &  19  & 20.1 & 61   & 5    &  9  \\\\\n",
       "\t12 &  16  & 256  &  9.7 & 69   & 5    & 12  \\\\\n",
       "\t13 &  11  & 290  &  9.2 & 66   & 5    & 13  \\\\\n",
       "\t14 &  14  & 274  & 10.9 & 68   & 5    & 14  \\\\\n",
       "\t15 &  18  &  65  & 13.2 & 58   & 5    & 15  \\\\\n",
       "\t16 &  14  & 334  & 11.5 & 64   & 5    & 16  \\\\\n",
       "\t17 &  34  & 307  & 12.0 & 66   & 5    & 17  \\\\\n",
       "\t18 &   6  &  78  & 18.4 & 57   & 5    & 18  \\\\\n",
       "\t19 &  30  & 322  & 11.5 & 68   & 5    & 19  \\\\\n",
       "\t20 &  11  &  44  &  9.7 & 62   & 5    & 20  \\\\\n",
       "\t21 &   1  &   8  &  9.7 & 59   & 5    & 21  \\\\\n",
       "\t22 &  11  & 320  & 16.6 & 73   & 5    & 22  \\\\\n",
       "\t23 &   4  &  25  &  9.7 & 61   & 5    & 23  \\\\\n",
       "\t24 &  32  &  92  & 12.0 & 61   & 5    & 24  \\\\\n",
       "\t28 &  23  &  13  & 12.0 & 67   & 5    & 28  \\\\\n",
       "\t29 &  45  & 252  & 14.9 & 81   & 5    & 29  \\\\\n",
       "\t30 & 115  & 223  &  5.7 & 79   & 5    & 30  \\\\\n",
       "\t31 &  37  & 279  &  7.4 & 76   & 5    & 31  \\\\\n",
       "\t38 &  29  & 127  &  9.7 & 82   & 6    &  7  \\\\\n",
       "\t40 &  71  & 291  & 13.8 & 90   & 6    &  9  \\\\\n",
       "\t41 &  39  & 323  & 11.5 & 87   & 6    & 10  \\\\\n",
       "\t44 &  23  & 148  &  8.0 & 82   & 6    & 13  \\\\\n",
       "\t47 &  21  & 191  & 14.9 & 77   & 6    & 16  \\\\\n",
       "\t48 &  37  & 284  & 20.7 & 72   & 6    & 17  \\\\\n",
       "\t... & ... & ... & ... & ... & ... & ...\\\\\n",
       "\t123 & 85   & 188  &  6.3 & 94   & 8    & 31  \\\\\n",
       "\t124 & 96   & 167  &  6.9 & 91   & 9    &  1  \\\\\n",
       "\t125 & 78   & 197  &  5.1 & 92   & 9    &  2  \\\\\n",
       "\t126 & 73   & 183  &  2.8 & 93   & 9    &  3  \\\\\n",
       "\t127 & 91   & 189  &  4.6 & 93   & 9    &  4  \\\\\n",
       "\t128 & 47   &  95  &  7.4 & 87   & 9    &  5  \\\\\n",
       "\t129 & 32   &  92  & 15.5 & 84   & 9    &  6  \\\\\n",
       "\t130 & 20   & 252  & 10.9 & 80   & 9    &  7  \\\\\n",
       "\t131 & 23   & 220  & 10.3 & 78   & 9    &  8  \\\\\n",
       "\t132 & 21   & 230  & 10.9 & 75   & 9    &  9  \\\\\n",
       "\t133 & 24   & 259  &  9.7 & 73   & 9    & 10  \\\\\n",
       "\t134 & 44   & 236  & 14.9 & 81   & 9    & 11  \\\\\n",
       "\t135 & 21   & 259  & 15.5 & 76   & 9    & 12  \\\\\n",
       "\t136 & 28   & 238  &  6.3 & 77   & 9    & 13  \\\\\n",
       "\t137 &  9   &  24  & 10.9 & 71   & 9    & 14  \\\\\n",
       "\t138 & 13   & 112  & 11.5 & 71   & 9    & 15  \\\\\n",
       "\t139 & 46   & 237  &  6.9 & 78   & 9    & 16  \\\\\n",
       "\t140 & 18   & 224  & 13.8 & 67   & 9    & 17  \\\\\n",
       "\t141 & 13   &  27  & 10.3 & 76   & 9    & 18  \\\\\n",
       "\t142 & 24   & 238  & 10.3 & 68   & 9    & 19  \\\\\n",
       "\t143 & 16   & 201  &  8.0 & 82   & 9    & 20  \\\\\n",
       "\t144 & 13   & 238  & 12.6 & 64   & 9    & 21  \\\\\n",
       "\t145 & 23   &  14  &  9.2 & 71   & 9    & 22  \\\\\n",
       "\t146 & 36   & 139  & 10.3 & 81   & 9    & 23  \\\\\n",
       "\t147 &  7   &  49  & 10.3 & 69   & 9    & 24  \\\\\n",
       "\t148 & 14   &  20  & 16.6 & 63   & 9    & 25  \\\\\n",
       "\t149 & 30   & 193  &  6.9 & 70   & 9    & 26  \\\\\n",
       "\t151 & 14   & 191  & 14.3 & 75   & 9    & 28  \\\\\n",
       "\t152 & 18   & 131  &  8.0 & 76   & 9    & 29  \\\\\n",
       "\t153 & 20   & 223  & 11.5 & 68   & 9    & 30  \\\\\n",
       "\\end{tabular}\n"
      ],
      "text/markdown": [
       "\n",
       "| <!--/--> | Ozone | Solar.R | Wind | Temp | Month | Day |\n",
       "|---|---|---|---|---|---|---|\n",
       "| 1 |  41  | 190  |  7.4 | 67   | 5    |  1   |\n",
       "| 2 |  36  | 118  |  8.0 | 72   | 5    |  2   |\n",
       "| 3 |  12  | 149  | 12.6 | 74   | 5    |  3   |\n",
       "| 4 |  18  | 313  | 11.5 | 62   | 5    |  4   |\n",
       "| 7 |  23  | 299  |  8.6 | 65   | 5    |  7   |\n",
       "| 8 |  19  |  99  | 13.8 | 59   | 5    |  8   |\n",
       "| 9 |   8  |  19  | 20.1 | 61   | 5    |  9   |\n",
       "| 12 |  16  | 256  |  9.7 | 69   | 5    | 12   |\n",
       "| 13 |  11  | 290  |  9.2 | 66   | 5    | 13   |\n",
       "| 14 |  14  | 274  | 10.9 | 68   | 5    | 14   |\n",
       "| 15 |  18  |  65  | 13.2 | 58   | 5    | 15   |\n",
       "| 16 |  14  | 334  | 11.5 | 64   | 5    | 16   |\n",
       "| 17 |  34  | 307  | 12.0 | 66   | 5    | 17   |\n",
       "| 18 |   6  |  78  | 18.4 | 57   | 5    | 18   |\n",
       "| 19 |  30  | 322  | 11.5 | 68   | 5    | 19   |\n",
       "| 20 |  11  |  44  |  9.7 | 62   | 5    | 20   |\n",
       "| 21 |   1  |   8  |  9.7 | 59   | 5    | 21   |\n",
       "| 22 |  11  | 320  | 16.6 | 73   | 5    | 22   |\n",
       "| 23 |   4  |  25  |  9.7 | 61   | 5    | 23   |\n",
       "| 24 |  32  |  92  | 12.0 | 61   | 5    | 24   |\n",
       "| 28 |  23  |  13  | 12.0 | 67   | 5    | 28   |\n",
       "| 29 |  45  | 252  | 14.9 | 81   | 5    | 29   |\n",
       "| 30 | 115  | 223  |  5.7 | 79   | 5    | 30   |\n",
       "| 31 |  37  | 279  |  7.4 | 76   | 5    | 31   |\n",
       "| 38 |  29  | 127  |  9.7 | 82   | 6    |  7   |\n",
       "| 40 |  71  | 291  | 13.8 | 90   | 6    |  9   |\n",
       "| 41 |  39  | 323  | 11.5 | 87   | 6    | 10   |\n",
       "| 44 |  23  | 148  |  8.0 | 82   | 6    | 13   |\n",
       "| 47 |  21  | 191  | 14.9 | 77   | 6    | 16   |\n",
       "| 48 |  37  | 284  | 20.7 | 72   | 6    | 17   |\n",
       "| ... | ... | ... | ... | ... | ... | ... |\n",
       "| 123 | 85   | 188  |  6.3 | 94   | 8    | 31   |\n",
       "| 124 | 96   | 167  |  6.9 | 91   | 9    |  1   |\n",
       "| 125 | 78   | 197  |  5.1 | 92   | 9    |  2   |\n",
       "| 126 | 73   | 183  |  2.8 | 93   | 9    |  3   |\n",
       "| 127 | 91   | 189  |  4.6 | 93   | 9    |  4   |\n",
       "| 128 | 47   |  95  |  7.4 | 87   | 9    |  5   |\n",
       "| 129 | 32   |  92  | 15.5 | 84   | 9    |  6   |\n",
       "| 130 | 20   | 252  | 10.9 | 80   | 9    |  7   |\n",
       "| 131 | 23   | 220  | 10.3 | 78   | 9    |  8   |\n",
       "| 132 | 21   | 230  | 10.9 | 75   | 9    |  9   |\n",
       "| 133 | 24   | 259  |  9.7 | 73   | 9    | 10   |\n",
       "| 134 | 44   | 236  | 14.9 | 81   | 9    | 11   |\n",
       "| 135 | 21   | 259  | 15.5 | 76   | 9    | 12   |\n",
       "| 136 | 28   | 238  |  6.3 | 77   | 9    | 13   |\n",
       "| 137 |  9   |  24  | 10.9 | 71   | 9    | 14   |\n",
       "| 138 | 13   | 112  | 11.5 | 71   | 9    | 15   |\n",
       "| 139 | 46   | 237  |  6.9 | 78   | 9    | 16   |\n",
       "| 140 | 18   | 224  | 13.8 | 67   | 9    | 17   |\n",
       "| 141 | 13   |  27  | 10.3 | 76   | 9    | 18   |\n",
       "| 142 | 24   | 238  | 10.3 | 68   | 9    | 19   |\n",
       "| 143 | 16   | 201  |  8.0 | 82   | 9    | 20   |\n",
       "| 144 | 13   | 238  | 12.6 | 64   | 9    | 21   |\n",
       "| 145 | 23   |  14  |  9.2 | 71   | 9    | 22   |\n",
       "| 146 | 36   | 139  | 10.3 | 81   | 9    | 23   |\n",
       "| 147 |  7   |  49  | 10.3 | 69   | 9    | 24   |\n",
       "| 148 | 14   |  20  | 16.6 | 63   | 9    | 25   |\n",
       "| 149 | 30   | 193  |  6.9 | 70   | 9    | 26   |\n",
       "| 151 | 14   | 191  | 14.3 | 75   | 9    | 28   |\n",
       "| 152 | 18   | 131  |  8.0 | 76   | 9    | 29   |\n",
       "| 153 | 20   | 223  | 11.5 | 68   | 9    | 30   |\n",
       "\n"
      ],
      "text/plain": [
       "    Ozone Solar.R Wind Temp Month Day\n",
       "1    41   190      7.4 67   5      1 \n",
       "2    36   118      8.0 72   5      2 \n",
       "3    12   149     12.6 74   5      3 \n",
       "4    18   313     11.5 62   5      4 \n",
       "7    23   299      8.6 65   5      7 \n",
       "8    19    99     13.8 59   5      8 \n",
       "9     8    19     20.1 61   5      9 \n",
       "12   16   256      9.7 69   5     12 \n",
       "13   11   290      9.2 66   5     13 \n",
       "14   14   274     10.9 68   5     14 \n",
       "15   18    65     13.2 58   5     15 \n",
       "16   14   334     11.5 64   5     16 \n",
       "17   34   307     12.0 66   5     17 \n",
       "18    6    78     18.4 57   5     18 \n",
       "19   30   322     11.5 68   5     19 \n",
       "20   11    44      9.7 62   5     20 \n",
       "21    1     8      9.7 59   5     21 \n",
       "22   11   320     16.6 73   5     22 \n",
       "23    4    25      9.7 61   5     23 \n",
       "24   32    92     12.0 61   5     24 \n",
       "28   23    13     12.0 67   5     28 \n",
       "29   45   252     14.9 81   5     29 \n",
       "30  115   223      5.7 79   5     30 \n",
       "31   37   279      7.4 76   5     31 \n",
       "38   29   127      9.7 82   6      7 \n",
       "40   71   291     13.8 90   6      9 \n",
       "41   39   323     11.5 87   6     10 \n",
       "44   23   148      8.0 82   6     13 \n",
       "47   21   191     14.9 77   6     16 \n",
       "48   37   284     20.7 72   6     17 \n",
       "... ...   ...     ...  ...  ...   ...\n",
       "123 85    188      6.3 94   8     31 \n",
       "124 96    167      6.9 91   9      1 \n",
       "125 78    197      5.1 92   9      2 \n",
       "126 73    183      2.8 93   9      3 \n",
       "127 91    189      4.6 93   9      4 \n",
       "128 47     95      7.4 87   9      5 \n",
       "129 32     92     15.5 84   9      6 \n",
       "130 20    252     10.9 80   9      7 \n",
       "131 23    220     10.3 78   9      8 \n",
       "132 21    230     10.9 75   9      9 \n",
       "133 24    259      9.7 73   9     10 \n",
       "134 44    236     14.9 81   9     11 \n",
       "135 21    259     15.5 76   9     12 \n",
       "136 28    238      6.3 77   9     13 \n",
       "137  9     24     10.9 71   9     14 \n",
       "138 13    112     11.5 71   9     15 \n",
       "139 46    237      6.9 78   9     16 \n",
       "140 18    224     13.8 67   9     17 \n",
       "141 13     27     10.3 76   9     18 \n",
       "142 24    238     10.3 68   9     19 \n",
       "143 16    201      8.0 82   9     20 \n",
       "144 13    238     12.6 64   9     21 \n",
       "145 23     14      9.2 71   9     22 \n",
       "146 36    139     10.3 81   9     23 \n",
       "147  7     49     10.3 69   9     24 \n",
       "148 14     20     16.6 63   9     25 \n",
       "149 30    193      6.9 70   9     26 \n",
       "151 14    191     14.3 75   9     28 \n",
       "152 18    131      8.0 76   9     29 \n",
       "153 20    223     11.5 68   9     30 "
      ]
     },
     "metadata": {},
     "output_type": "display_data"
    }
   ],
   "source": [
    "# d. Eliminate all observations with missing solar data.\n",
    "\n",
    "airquality <- na.omit(airquality)\n",
    "airquality"
   ]
  },
  {
   "cell_type": "code",
   "execution_count": 69,
   "id": "c76ee9be",
   "metadata": {},
   "outputs": [
    {
     "data": {
      "text/html": [
       "<dl class=dl-horizontal>\n",
       "\t<dt>Ozone</dt>\n",
       "\t\t<dd>42.0990990990991</dd>\n",
       "\t<dt>Solar.R</dt>\n",
       "\t\t<dd>184.801801801802</dd>\n",
       "\t<dt>Wind</dt>\n",
       "\t\t<dd>9.93963963963964</dd>\n",
       "\t<dt>Temp</dt>\n",
       "\t\t<dd>77.7927927927928</dd>\n",
       "</dl>\n"
      ],
      "text/latex": [
       "\\begin{description*}\n",
       "\\item[Ozone] 42.0990990990991\n",
       "\\item[Solar.R] 184.801801801802\n",
       "\\item[Wind] 9.93963963963964\n",
       "\\item[Temp] 77.7927927927928\n",
       "\\end{description*}\n"
      ],
      "text/markdown": [
       "Ozone\n",
       ":   42.0990990990991Solar.R\n",
       ":   184.801801801802Wind\n",
       ":   9.93963963963964Temp\n",
       ":   77.7927927927928\n",
       "\n"
      ],
      "text/plain": [
       "    Ozone   Solar.R      Wind      Temp \n",
       " 42.09910 184.80180   9.93964  77.79279 "
      ]
     },
     "metadata": {},
     "output_type": "display_data"
    }
   ],
   "source": [
    "# e. Averages for: ozone, solar, wind and temp  - Method 1 using colMeans after eliminating NA\n",
    "\n",
    "colMeans(airquality[c('Ozone','Solar.R','Wind','Temp')])"
   ]
  },
  {
   "cell_type": "code",
   "execution_count": 70,
   "id": "9b71d5e0",
   "metadata": {},
   "outputs": [
    {
     "data": {
      "text/html": [
       "<dl class=dl-horizontal>\n",
       "\t<dt>Ozone</dt>\n",
       "\t\t<dd>42.0990990990991</dd>\n",
       "\t<dt>Solar.R</dt>\n",
       "\t\t<dd>184.801801801802</dd>\n",
       "\t<dt>Wind</dt>\n",
       "\t\t<dd>9.93963963963964</dd>\n",
       "\t<dt>Temp</dt>\n",
       "\t\t<dd>77.7927927927928</dd>\n",
       "</dl>\n"
      ],
      "text/latex": [
       "\\begin{description*}\n",
       "\\item[Ozone] 42.0990990990991\n",
       "\\item[Solar.R] 184.801801801802\n",
       "\\item[Wind] 9.93963963963964\n",
       "\\item[Temp] 77.7927927927928\n",
       "\\end{description*}\n"
      ],
      "text/markdown": [
       "Ozone\n",
       ":   42.0990990990991Solar.R\n",
       ":   184.801801801802Wind\n",
       ":   9.93963963963964Temp\n",
       ":   77.7927927927928\n",
       "\n"
      ],
      "text/plain": [
       "    Ozone   Solar.R      Wind      Temp \n",
       " 42.09910 184.80180   9.93964  77.79279 "
      ]
     },
     "metadata": {},
     "output_type": "display_data"
    }
   ],
   "source": [
    "# c. Averages for: ozone, solar, wind and temp  - Method 2 using mean after eliminating NA\n",
    "\n",
    "apply(airquality[c('Ozone','Solar.R','Wind','Temp')],2,'mean')\n"
   ]
  },
  {
   "cell_type": "code",
   "execution_count": null,
   "id": "a6ac980d",
   "metadata": {},
   "outputs": [],
   "source": []
  },
  {
   "cell_type": "code",
   "execution_count": null,
   "id": "5e3b72f2",
   "metadata": {},
   "outputs": [],
   "source": []
  },
  {
   "cell_type": "code",
   "execution_count": null,
   "id": "ed301ac5",
   "metadata": {},
   "outputs": [],
   "source": [
    "# Homework 2"
   ]
  },
  {
   "cell_type": "code",
   "execution_count": null,
   "id": "86475544",
   "metadata": {},
   "outputs": [],
   "source": []
  }
 ],
 "metadata": {
  "kernelspec": {
   "display_name": "R",
   "language": "R",
   "name": "ir"
  },
  "language_info": {
   "codemirror_mode": "r",
   "file_extension": ".r",
   "mimetype": "text/x-r-source",
   "name": "R",
   "pygments_lexer": "r",
   "version": "3.6.0"
  }
 },
 "nbformat": 4,
 "nbformat_minor": 5
}
