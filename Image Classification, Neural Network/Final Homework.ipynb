{
 "cells": [
  {
   "cell_type": "markdown",
   "id": "d4a4fed0",
   "metadata": {},
   "source": [
    "# Question 4"
   ]
  },
  {
   "cell_type": "markdown",
   "id": "7b04e089",
   "metadata": {},
   "source": [
    "## This problem involves the OJ data set which is part of the ISLR2 package."
   ]
  },
  {
   "cell_type": "markdown",
   "id": "a59266e3",
   "metadata": {},
   "source": [
    "### *(a) Create a training set containing a random sample of 800 observations, and a test set containing the remaining observations.*"
   ]
  },
  {
   "cell_type": "markdown",
   "id": "3c09b1c7",
   "metadata": {},
   "source": [
    "Loading the libraries"
   ]
  },
  {
   "cell_type": "code",
   "execution_count": 3,
   "id": "6e0fc012",
   "metadata": {},
   "outputs": [
    {
     "name": "stdout",
     "output_type": "stream",
     "text": [
      "\n",
      "The downloaded binary packages are in\n",
      "\t/var/folders/ch/lqq67w6x5px6fcc9cnbp457m0000gn/T//RtmpgcVXgN/downloaded_packages\n",
      "\n",
      "The downloaded binary packages are in\n",
      "\t/var/folders/ch/lqq67w6x5px6fcc9cnbp457m0000gn/T//RtmpgcVXgN/downloaded_packages\n",
      "\n",
      "The downloaded binary packages are in\n",
      "\t/var/folders/ch/lqq67w6x5px6fcc9cnbp457m0000gn/T//RtmpgcVXgN/downloaded_packages\n",
      "\n",
      "The downloaded binary packages are in\n",
      "\t/var/folders/ch/lqq67w6x5px6fcc9cnbp457m0000gn/T//RtmpgcVXgN/downloaded_packages\n",
      "\n",
      "The downloaded binary packages are in\n",
      "\t/var/folders/ch/lqq67w6x5px6fcc9cnbp457m0000gn/T//RtmpgcVXgN/downloaded_packages\n"
     ]
    }
   ],
   "source": [
    "install.packages('ISLR')\n",
    "install.packages('tidyverse')\n",
    "install.packages('ggthemes')\n",
    "install.packages('caret')\n",
    "install.packages('e1071')\n",
    "\n",
    "library(ISLR); \n",
    "library(tidyverse); \n",
    "library(ggthemes)\n",
    "library(caret); \n",
    "library(e1071)"
   ]
  },
  {
   "cell_type": "code",
   "execution_count": 6,
   "id": "edba475e",
   "metadata": {},
   "outputs": [],
   "source": [
    "set.seed(123)\n",
    "\n",
    "data('OJ')\n",
    "\n",
    "sample <- sample(nrow(OJ), 800, replace = FALSE)\n",
    "\n",
    "train <- OJ[sample,]\n",
    "test <- OJ[-sample,]"
   ]
  },
  {
   "cell_type": "code",
   "execution_count": 7,
   "id": "fcfb04bc",
   "metadata": {},
   "outputs": [
    {
     "data": {
      "text/html": [
       "<table class=\"dataframe\">\n",
       "<caption>A data.frame: 5 × 18</caption>\n",
       "<thead>\n",
       "\t<tr><th></th><th scope=col>Purchase</th><th scope=col>WeekofPurchase</th><th scope=col>StoreID</th><th scope=col>PriceCH</th><th scope=col>PriceMM</th><th scope=col>DiscCH</th><th scope=col>DiscMM</th><th scope=col>SpecialCH</th><th scope=col>SpecialMM</th><th scope=col>LoyalCH</th><th scope=col>SalePriceMM</th><th scope=col>SalePriceCH</th><th scope=col>PriceDiff</th><th scope=col>Store7</th><th scope=col>PctDiscMM</th><th scope=col>PctDiscCH</th><th scope=col>ListPriceDiff</th><th scope=col>STORE</th></tr>\n",
       "\t<tr><th></th><th scope=col>&lt;fct&gt;</th><th scope=col>&lt;dbl&gt;</th><th scope=col>&lt;dbl&gt;</th><th scope=col>&lt;dbl&gt;</th><th scope=col>&lt;dbl&gt;</th><th scope=col>&lt;dbl&gt;</th><th scope=col>&lt;dbl&gt;</th><th scope=col>&lt;dbl&gt;</th><th scope=col>&lt;dbl&gt;</th><th scope=col>&lt;dbl&gt;</th><th scope=col>&lt;dbl&gt;</th><th scope=col>&lt;dbl&gt;</th><th scope=col>&lt;dbl&gt;</th><th scope=col>&lt;fct&gt;</th><th scope=col>&lt;dbl&gt;</th><th scope=col>&lt;dbl&gt;</th><th scope=col>&lt;dbl&gt;</th><th scope=col>&lt;dbl&gt;</th></tr>\n",
       "</thead>\n",
       "<tbody>\n",
       "\t<tr><th scope=row>415</th><td>MM</td><td>238</td><td>3</td><td>1.79</td><td>2.09</td><td>0.0</td><td>0.0</td><td>0</td><td>0</td><td>0.145350</td><td>2.09</td><td>1.79</td><td> 0.30</td><td>No </td><td>0.000000</td><td>0.000000</td><td>0.30</td><td>3</td></tr>\n",
       "\t<tr><th scope=row>463</th><td>CH</td><td>228</td><td>7</td><td>1.69</td><td>1.69</td><td>0.0</td><td>0.0</td><td>0</td><td>0</td><td>0.584000</td><td>1.69</td><td>1.69</td><td> 0.00</td><td>Yes</td><td>0.000000</td><td>0.000000</td><td>0.00</td><td>0</td></tr>\n",
       "\t<tr><th scope=row>179</th><td>CH</td><td>244</td><td>7</td><td>1.86</td><td>2.09</td><td>0.0</td><td>0.2</td><td>0</td><td>0</td><td>0.992794</td><td>1.89</td><td>1.86</td><td> 0.03</td><td>Yes</td><td>0.095694</td><td>0.000000</td><td>0.23</td><td>0</td></tr>\n",
       "\t<tr><th scope=row>526</th><td>MM</td><td>263</td><td>1</td><td>1.76</td><td>1.99</td><td>0.0</td><td>0.4</td><td>0</td><td>1</td><td>0.400000</td><td>1.59</td><td>1.76</td><td>-0.17</td><td>No </td><td>0.201005</td><td>0.000000</td><td>0.23</td><td>1</td></tr>\n",
       "\t<tr><th scope=row>195</th><td>CH</td><td>271</td><td>4</td><td>1.99</td><td>2.09</td><td>0.1</td><td>0.4</td><td>1</td><td>0</td><td>0.999797</td><td>1.69</td><td>1.89</td><td>-0.20</td><td>No </td><td>0.191388</td><td>0.050251</td><td>0.10</td><td>4</td></tr>\n",
       "</tbody>\n",
       "</table>\n"
      ],
      "text/latex": [
       "A data.frame: 5 × 18\n",
       "\\begin{tabular}{r|llllllllllllllllll}\n",
       "  & Purchase & WeekofPurchase & StoreID & PriceCH & PriceMM & DiscCH & DiscMM & SpecialCH & SpecialMM & LoyalCH & SalePriceMM & SalePriceCH & PriceDiff & Store7 & PctDiscMM & PctDiscCH & ListPriceDiff & STORE\\\\\n",
       "  & <fct> & <dbl> & <dbl> & <dbl> & <dbl> & <dbl> & <dbl> & <dbl> & <dbl> & <dbl> & <dbl> & <dbl> & <dbl> & <fct> & <dbl> & <dbl> & <dbl> & <dbl>\\\\\n",
       "\\hline\n",
       "\t415 & MM & 238 & 3 & 1.79 & 2.09 & 0.0 & 0.0 & 0 & 0 & 0.145350 & 2.09 & 1.79 &  0.30 & No  & 0.000000 & 0.000000 & 0.30 & 3\\\\\n",
       "\t463 & CH & 228 & 7 & 1.69 & 1.69 & 0.0 & 0.0 & 0 & 0 & 0.584000 & 1.69 & 1.69 &  0.00 & Yes & 0.000000 & 0.000000 & 0.00 & 0\\\\\n",
       "\t179 & CH & 244 & 7 & 1.86 & 2.09 & 0.0 & 0.2 & 0 & 0 & 0.992794 & 1.89 & 1.86 &  0.03 & Yes & 0.095694 & 0.000000 & 0.23 & 0\\\\\n",
       "\t526 & MM & 263 & 1 & 1.76 & 1.99 & 0.0 & 0.4 & 0 & 1 & 0.400000 & 1.59 & 1.76 & -0.17 & No  & 0.201005 & 0.000000 & 0.23 & 1\\\\\n",
       "\t195 & CH & 271 & 4 & 1.99 & 2.09 & 0.1 & 0.4 & 1 & 0 & 0.999797 & 1.69 & 1.89 & -0.20 & No  & 0.191388 & 0.050251 & 0.10 & 4\\\\\n",
       "\\end{tabular}\n"
      ],
      "text/markdown": [
       "\n",
       "A data.frame: 5 × 18\n",
       "\n",
       "| <!--/--> | Purchase &lt;fct&gt; | WeekofPurchase &lt;dbl&gt; | StoreID &lt;dbl&gt; | PriceCH &lt;dbl&gt; | PriceMM &lt;dbl&gt; | DiscCH &lt;dbl&gt; | DiscMM &lt;dbl&gt; | SpecialCH &lt;dbl&gt; | SpecialMM &lt;dbl&gt; | LoyalCH &lt;dbl&gt; | SalePriceMM &lt;dbl&gt; | SalePriceCH &lt;dbl&gt; | PriceDiff &lt;dbl&gt; | Store7 &lt;fct&gt; | PctDiscMM &lt;dbl&gt; | PctDiscCH &lt;dbl&gt; | ListPriceDiff &lt;dbl&gt; | STORE &lt;dbl&gt; |\n",
       "|---|---|---|---|---|---|---|---|---|---|---|---|---|---|---|---|---|---|---|\n",
       "| 415 | MM | 238 | 3 | 1.79 | 2.09 | 0.0 | 0.0 | 0 | 0 | 0.145350 | 2.09 | 1.79 |  0.30 | No  | 0.000000 | 0.000000 | 0.30 | 3 |\n",
       "| 463 | CH | 228 | 7 | 1.69 | 1.69 | 0.0 | 0.0 | 0 | 0 | 0.584000 | 1.69 | 1.69 |  0.00 | Yes | 0.000000 | 0.000000 | 0.00 | 0 |\n",
       "| 179 | CH | 244 | 7 | 1.86 | 2.09 | 0.0 | 0.2 | 0 | 0 | 0.992794 | 1.89 | 1.86 |  0.03 | Yes | 0.095694 | 0.000000 | 0.23 | 0 |\n",
       "| 526 | MM | 263 | 1 | 1.76 | 1.99 | 0.0 | 0.4 | 0 | 1 | 0.400000 | 1.59 | 1.76 | -0.17 | No  | 0.201005 | 0.000000 | 0.23 | 1 |\n",
       "| 195 | CH | 271 | 4 | 1.99 | 2.09 | 0.1 | 0.4 | 1 | 0 | 0.999797 | 1.69 | 1.89 | -0.20 | No  | 0.191388 | 0.050251 | 0.10 | 4 |\n",
       "\n"
      ],
      "text/plain": [
       "    Purchase WeekofPurchase StoreID PriceCH PriceMM DiscCH DiscMM SpecialCH\n",
       "415 MM       238            3       1.79    2.09    0.0    0.0    0        \n",
       "463 CH       228            7       1.69    1.69    0.0    0.0    0        \n",
       "179 CH       244            7       1.86    2.09    0.0    0.2    0        \n",
       "526 MM       263            1       1.76    1.99    0.0    0.4    0        \n",
       "195 CH       271            4       1.99    2.09    0.1    0.4    1        \n",
       "    SpecialMM LoyalCH  SalePriceMM SalePriceCH PriceDiff Store7 PctDiscMM\n",
       "415 0         0.145350 2.09        1.79         0.30     No     0.000000 \n",
       "463 0         0.584000 1.69        1.69         0.00     Yes    0.000000 \n",
       "179 0         0.992794 1.89        1.86         0.03     Yes    0.095694 \n",
       "526 1         0.400000 1.59        1.76        -0.17     No     0.201005 \n",
       "195 0         0.999797 1.69        1.89        -0.20     No     0.191388 \n",
       "    PctDiscCH ListPriceDiff STORE\n",
       "415 0.000000  0.30          3    \n",
       "463 0.000000  0.00          0    \n",
       "179 0.000000  0.23          0    \n",
       "526 0.000000  0.23          1    \n",
       "195 0.050251  0.10          4    "
      ]
     },
     "metadata": {},
     "output_type": "display_data"
    }
   ],
   "source": [
    "head(train,5)"
   ]
  },
  {
   "cell_type": "code",
   "execution_count": 8,
   "id": "37c31e66",
   "metadata": {},
   "outputs": [
    {
     "data": {
      "text/html": [
       "<table class=\"dataframe\">\n",
       "<caption>A data.frame: 5 × 18</caption>\n",
       "<thead>\n",
       "\t<tr><th></th><th scope=col>Purchase</th><th scope=col>WeekofPurchase</th><th scope=col>StoreID</th><th scope=col>PriceCH</th><th scope=col>PriceMM</th><th scope=col>DiscCH</th><th scope=col>DiscMM</th><th scope=col>SpecialCH</th><th scope=col>SpecialMM</th><th scope=col>LoyalCH</th><th scope=col>SalePriceMM</th><th scope=col>SalePriceCH</th><th scope=col>PriceDiff</th><th scope=col>Store7</th><th scope=col>PctDiscMM</th><th scope=col>PctDiscCH</th><th scope=col>ListPriceDiff</th><th scope=col>STORE</th></tr>\n",
       "\t<tr><th></th><th scope=col>&lt;fct&gt;</th><th scope=col>&lt;dbl&gt;</th><th scope=col>&lt;dbl&gt;</th><th scope=col>&lt;dbl&gt;</th><th scope=col>&lt;dbl&gt;</th><th scope=col>&lt;dbl&gt;</th><th scope=col>&lt;dbl&gt;</th><th scope=col>&lt;dbl&gt;</th><th scope=col>&lt;dbl&gt;</th><th scope=col>&lt;dbl&gt;</th><th scope=col>&lt;dbl&gt;</th><th scope=col>&lt;dbl&gt;</th><th scope=col>&lt;dbl&gt;</th><th scope=col>&lt;fct&gt;</th><th scope=col>&lt;dbl&gt;</th><th scope=col>&lt;dbl&gt;</th><th scope=col>&lt;dbl&gt;</th><th scope=col>&lt;dbl&gt;</th></tr>\n",
       "</thead>\n",
       "<tbody>\n",
       "\t<tr><th scope=row>1</th><td>CH</td><td>237</td><td>1</td><td>1.75</td><td>1.99</td><td>0.00</td><td>0.0</td><td>0</td><td>0</td><td>0.500000</td><td>1.99</td><td>1.75</td><td> 0.24</td><td>No </td><td>0.000000</td><td>0.000000</td><td>0.24</td><td>1</td></tr>\n",
       "\t<tr><th scope=row>3</th><td>CH</td><td>245</td><td>1</td><td>1.86</td><td>2.09</td><td>0.17</td><td>0.0</td><td>0</td><td>0</td><td>0.680000</td><td>2.09</td><td>1.69</td><td> 0.40</td><td>No </td><td>0.000000</td><td>0.091398</td><td>0.23</td><td>1</td></tr>\n",
       "\t<tr><th scope=row>7</th><td>CH</td><td>232</td><td>7</td><td>1.69</td><td>1.99</td><td>0.00</td><td>0.4</td><td>1</td><td>1</td><td>0.972182</td><td>1.59</td><td>1.69</td><td>-0.10</td><td>Yes</td><td>0.201005</td><td>0.000000</td><td>0.30</td><td>0</td></tr>\n",
       "\t<tr><th scope=row>9</th><td>CH</td><td>235</td><td>7</td><td>1.75</td><td>1.99</td><td>0.00</td><td>0.4</td><td>0</td><td>0</td><td>0.982197</td><td>1.59</td><td>1.75</td><td>-0.16</td><td>Yes</td><td>0.201005</td><td>0.000000</td><td>0.24</td><td>0</td></tr>\n",
       "\t<tr><th scope=row>12</th><td>CH</td><td>263</td><td>7</td><td>1.86</td><td>2.13</td><td>0.27</td><td>0.0</td><td>0</td><td>0</td><td>0.990885</td><td>2.13</td><td>1.59</td><td> 0.54</td><td>Yes</td><td>0.000000</td><td>0.145161</td><td>0.27</td><td>0</td></tr>\n",
       "</tbody>\n",
       "</table>\n"
      ],
      "text/latex": [
       "A data.frame: 5 × 18\n",
       "\\begin{tabular}{r|llllllllllllllllll}\n",
       "  & Purchase & WeekofPurchase & StoreID & PriceCH & PriceMM & DiscCH & DiscMM & SpecialCH & SpecialMM & LoyalCH & SalePriceMM & SalePriceCH & PriceDiff & Store7 & PctDiscMM & PctDiscCH & ListPriceDiff & STORE\\\\\n",
       "  & <fct> & <dbl> & <dbl> & <dbl> & <dbl> & <dbl> & <dbl> & <dbl> & <dbl> & <dbl> & <dbl> & <dbl> & <dbl> & <fct> & <dbl> & <dbl> & <dbl> & <dbl>\\\\\n",
       "\\hline\n",
       "\t1 & CH & 237 & 1 & 1.75 & 1.99 & 0.00 & 0.0 & 0 & 0 & 0.500000 & 1.99 & 1.75 &  0.24 & No  & 0.000000 & 0.000000 & 0.24 & 1\\\\\n",
       "\t3 & CH & 245 & 1 & 1.86 & 2.09 & 0.17 & 0.0 & 0 & 0 & 0.680000 & 2.09 & 1.69 &  0.40 & No  & 0.000000 & 0.091398 & 0.23 & 1\\\\\n",
       "\t7 & CH & 232 & 7 & 1.69 & 1.99 & 0.00 & 0.4 & 1 & 1 & 0.972182 & 1.59 & 1.69 & -0.10 & Yes & 0.201005 & 0.000000 & 0.30 & 0\\\\\n",
       "\t9 & CH & 235 & 7 & 1.75 & 1.99 & 0.00 & 0.4 & 0 & 0 & 0.982197 & 1.59 & 1.75 & -0.16 & Yes & 0.201005 & 0.000000 & 0.24 & 0\\\\\n",
       "\t12 & CH & 263 & 7 & 1.86 & 2.13 & 0.27 & 0.0 & 0 & 0 & 0.990885 & 2.13 & 1.59 &  0.54 & Yes & 0.000000 & 0.145161 & 0.27 & 0\\\\\n",
       "\\end{tabular}\n"
      ],
      "text/markdown": [
       "\n",
       "A data.frame: 5 × 18\n",
       "\n",
       "| <!--/--> | Purchase &lt;fct&gt; | WeekofPurchase &lt;dbl&gt; | StoreID &lt;dbl&gt; | PriceCH &lt;dbl&gt; | PriceMM &lt;dbl&gt; | DiscCH &lt;dbl&gt; | DiscMM &lt;dbl&gt; | SpecialCH &lt;dbl&gt; | SpecialMM &lt;dbl&gt; | LoyalCH &lt;dbl&gt; | SalePriceMM &lt;dbl&gt; | SalePriceCH &lt;dbl&gt; | PriceDiff &lt;dbl&gt; | Store7 &lt;fct&gt; | PctDiscMM &lt;dbl&gt; | PctDiscCH &lt;dbl&gt; | ListPriceDiff &lt;dbl&gt; | STORE &lt;dbl&gt; |\n",
       "|---|---|---|---|---|---|---|---|---|---|---|---|---|---|---|---|---|---|---|\n",
       "| 1 | CH | 237 | 1 | 1.75 | 1.99 | 0.00 | 0.0 | 0 | 0 | 0.500000 | 1.99 | 1.75 |  0.24 | No  | 0.000000 | 0.000000 | 0.24 | 1 |\n",
       "| 3 | CH | 245 | 1 | 1.86 | 2.09 | 0.17 | 0.0 | 0 | 0 | 0.680000 | 2.09 | 1.69 |  0.40 | No  | 0.000000 | 0.091398 | 0.23 | 1 |\n",
       "| 7 | CH | 232 | 7 | 1.69 | 1.99 | 0.00 | 0.4 | 1 | 1 | 0.972182 | 1.59 | 1.69 | -0.10 | Yes | 0.201005 | 0.000000 | 0.30 | 0 |\n",
       "| 9 | CH | 235 | 7 | 1.75 | 1.99 | 0.00 | 0.4 | 0 | 0 | 0.982197 | 1.59 | 1.75 | -0.16 | Yes | 0.201005 | 0.000000 | 0.24 | 0 |\n",
       "| 12 | CH | 263 | 7 | 1.86 | 2.13 | 0.27 | 0.0 | 0 | 0 | 0.990885 | 2.13 | 1.59 |  0.54 | Yes | 0.000000 | 0.145161 | 0.27 | 0 |\n",
       "\n"
      ],
      "text/plain": [
       "   Purchase WeekofPurchase StoreID PriceCH PriceMM DiscCH DiscMM SpecialCH\n",
       "1  CH       237            1       1.75    1.99    0.00   0.0    0        \n",
       "3  CH       245            1       1.86    2.09    0.17   0.0    0        \n",
       "7  CH       232            7       1.69    1.99    0.00   0.4    1        \n",
       "9  CH       235            7       1.75    1.99    0.00   0.4    0        \n",
       "12 CH       263            7       1.86    2.13    0.27   0.0    0        \n",
       "   SpecialMM LoyalCH  SalePriceMM SalePriceCH PriceDiff Store7 PctDiscMM\n",
       "1  0         0.500000 1.99        1.75         0.24     No     0.000000 \n",
       "3  0         0.680000 2.09        1.69         0.40     No     0.000000 \n",
       "7  1         0.972182 1.59        1.69        -0.10     Yes    0.201005 \n",
       "9  0         0.982197 1.59        1.75        -0.16     Yes    0.201005 \n",
       "12 0         0.990885 2.13        1.59         0.54     Yes    0.000000 \n",
       "   PctDiscCH ListPriceDiff STORE\n",
       "1  0.000000  0.24          1    \n",
       "3  0.091398  0.23          1    \n",
       "7  0.000000  0.30          0    \n",
       "9  0.000000  0.24          0    \n",
       "12 0.145161  0.27          0    "
      ]
     },
     "metadata": {},
     "output_type": "display_data"
    }
   ],
   "source": [
    "head(test,5)"
   ]
  },
  {
   "cell_type": "markdown",
   "id": "62eddab1",
   "metadata": {},
   "source": [
    "### *(b) Fit a support vector classifier to the training data using cost = 0.01, with Purchase as the response and the other variables as predictors. Use the summary() funcction to produce summary statistics, and describe the results obtained.*"
   ]
  },
  {
   "cell_type": "code",
   "execution_count": 36,
   "id": "a7a866f3",
   "metadata": {},
   "outputs": [
    {
     "data": {
      "text/plain": [
       "\n",
       "Call:\n",
       "svm(formula = Purchase ~ ., data = train, kernel = \"linear\", cost = 0.01)\n",
       "\n",
       "\n",
       "Parameters:\n",
       "   SVM-Type:  C-classification \n",
       " SVM-Kernel:  linear \n",
       "       cost:  0.01 \n",
       "\n",
       "Number of Support Vectors:  442\n",
       "\n",
       " ( 220 222 )\n",
       "\n",
       "\n",
       "Number of Classes:  2 \n",
       "\n",
       "Levels: \n",
       " CH MM\n",
       "\n",
       "\n"
      ]
     },
     "metadata": {},
     "output_type": "display_data"
    }
   ],
   "source": [
    "set.seed(123)\n",
    "svm_linear <- svm(Purchase ~ ., kernel='linear',  data=train, cost=0.01)\n",
    "summary(svm_linear)"
   ]
  },
  {
   "cell_type": "markdown",
   "id": "041f78fc",
   "metadata": {},
   "source": [
    "Out of 800 training points, the Support Vector classifier generates 442 support vectors. 220 of these are under level CH, and the remaining 222 fall under level MM."
   ]
  },
  {
   "cell_type": "markdown",
   "id": "4e5a8d3d",
   "metadata": {},
   "source": [
    "### *(c) What are the training and test error rates?*"
   ]
  },
  {
   "cell_type": "code",
   "execution_count": 37,
   "id": "21d020be",
   "metadata": {},
   "outputs": [
    {
     "data": {
      "text/plain": [
       "    pred_train_data\n",
       "      CH  MM\n",
       "  CH 426  61\n",
       "  MM  71 242"
      ]
     },
     "metadata": {},
     "output_type": "display_data"
    },
    {
     "name": "stdout",
     "output_type": "stream",
     "text": [
      "Train Error is: 16.5 %\n"
     ]
    }
   ],
   "source": [
    "\n",
    "pred_train_data <- predict(svm_linear, train)\n",
    "table(train$Purchase, pred_train_data)\n",
    "\n",
    "cat(\"Train Error is:\", 100 * mean(pred_train_data != train$Purchase), \"%\\n\")"
   ]
  },
  {
   "cell_type": "code",
   "execution_count": 88,
   "id": "e5168f30",
   "metadata": {},
   "outputs": [
    {
     "data": {
      "text/plain": [
       "    pred_test_data\n",
       "      CH  MM\n",
       "  CH 145  21\n",
       "  MM  27  77"
      ]
     },
     "metadata": {},
     "output_type": "display_data"
    },
    {
     "name": "stdout",
     "output_type": "stream",
     "text": [
      "Test Error is: 17.77778 %\n"
     ]
    }
   ],
   "source": [
    "pred_test_data <- predict(svm_linear, test)\n",
    "table(test$Purchase, pred_test_data)\n",
    "\n",
    "cat(\"Test Error is:\", 100 * mean(pred_test_data != test$Purchase), \"%\\n\")"
   ]
  },
  {
   "cell_type": "markdown",
   "id": "ac53f5fa",
   "metadata": {},
   "source": [
    "### *(d) Use the tune() function to select an optimal cost. Consider values in the range 0.01 to 10.*"
   ]
  },
  {
   "cell_type": "code",
   "execution_count": 40,
   "id": "ec30e61b",
   "metadata": {},
   "outputs": [
    {
     "data": {
      "text/plain": [
       "\n",
       "Parameter tuning of ‘svm’:\n",
       "\n",
       "- sampling method: 10-fold cross validation \n",
       "\n",
       "- best parameters:\n",
       "     cost\n",
       " 3.162278\n",
       "\n",
       "- best performance: 0.16375 \n",
       "\n",
       "- Detailed performance results:\n",
       "         cost   error dispersion\n",
       "1  0.01000000 0.17375 0.04910660\n",
       "2  0.03162278 0.17125 0.04678927\n",
       "3  0.10000000 0.17500 0.04823265\n",
       "4  0.31622777 0.17125 0.04084609\n",
       "5  1.00000000 0.16875 0.03963812\n",
       "6  3.16227766 0.16375 0.04185375\n",
       "7 10.00000000 0.17000 0.04005205\n"
      ]
     },
     "metadata": {},
     "output_type": "display_data"
    },
    {
     "name": "stdout",
     "output_type": "stream",
     "text": [
      "Tuning shows that optimal cost is 3.162278"
     ]
    }
   ],
   "source": [
    "set.seed(123)\n",
    "\n",
    "tune_data <- tune(svm, Purchase ~ ., data = train, kernel='linear', ranges = list(cost = 10^seq(-2,1, by = .5)))\n",
    "summary(tune_data)\n",
    "\n",
    "cat(\"Tuning shows that optimal cost is 3.162278\")"
   ]
  },
  {
   "cell_type": "markdown",
   "id": "d236c974",
   "metadata": {},
   "source": [
    "### *(e) Compute the training and test error rates using this new value for cost.*"
   ]
  },
  {
   "cell_type": "code",
   "execution_count": 43,
   "id": "99bb6bb9",
   "metadata": {},
   "outputs": [
    {
     "data": {
      "text/plain": [
       "    tune_pred_train_data\n",
       "      CH  MM\n",
       "  CH 427  60\n",
       "  MM  69 244"
      ]
     },
     "metadata": {},
     "output_type": "display_data"
    },
    {
     "name": "stdout",
     "output_type": "stream",
     "text": [
      "Train Error after tuning is: 16.125 %\n"
     ]
    }
   ],
   "source": [
    "tune_svm_linear<-svm(Purchase ~ ., kernel='linear', data=train, cost=tune_data$best.parameters$cost)\n",
    "tune_pred_train_data<-predict(tune_svm_linear, train)\n",
    "table(train$Purchase, tune_pred_train_data)\n",
    "\n",
    "cat(\"Train Error after tuning is:\", 100 * mean(tune_pred_train_data != train$Purchase), \"%\\n\")"
   ]
  },
  {
   "cell_type": "code",
   "execution_count": 87,
   "id": "4be1c61a",
   "metadata": {},
   "outputs": [
    {
     "data": {
      "text/plain": [
       "    tune_pred_test_data\n",
       "      CH  MM\n",
       "  CH 148  18\n",
       "  MM  27  77"
      ]
     },
     "metadata": {},
     "output_type": "display_data"
    },
    {
     "name": "stdout",
     "output_type": "stream",
     "text": [
      "Test Error after tuning is: 16.66667 %\n"
     ]
    }
   ],
   "source": [
    "tune_svm_linear<-svm(Purchase ~ ., kernel='linear', data=test, cost=tune_data$best.parameters$cost)\n",
    "tune_pred_test_data<-predict(tune_svm_linear, test)\n",
    "table(test$Purchase, tune_pred_test_data)\n",
    "\n",
    "cat(\"Test Error after tuning is:\", 100 * mean(tune_pred_test_data != test$Purchase), \"%\\n\")"
   ]
  },
  {
   "cell_type": "markdown",
   "id": "0eb85015",
   "metadata": {},
   "source": [
    "With the use of the optimal cost, the training error has marginally decreased to 16.125%. Additionally, the test error rate decreased to 16.67% when the optimal cost was used. This, in my opinion, is probably the result of random variance in the train/test split."
   ]
  },
  {
   "cell_type": "markdown",
   "id": "51539cf2",
   "metadata": {},
   "source": [
    "### *(f) Repeat parts (b) through (e) using a support vector machine with a radial kernel. Use the default value for gamma.*"
   ]
  },
  {
   "cell_type": "markdown",
   "id": "6beb4f16",
   "metadata": {},
   "source": [
    "SVM with radial kernel: without tuning"
   ]
  },
  {
   "cell_type": "code",
   "execution_count": 46,
   "id": "f24c7c3f",
   "metadata": {},
   "outputs": [
    {
     "data": {
      "text/plain": [
       "\n",
       "Call:\n",
       "svm(formula = Purchase ~ ., data = train, kernel = \"radial\")\n",
       "\n",
       "\n",
       "Parameters:\n",
       "   SVM-Type:  C-classification \n",
       " SVM-Kernel:  radial \n",
       "       cost:  1 \n",
       "\n",
       "Number of Support Vectors:  367\n",
       "\n",
       " ( 181 186 )\n",
       "\n",
       "\n",
       "Number of Classes:  2 \n",
       "\n",
       "Levels: \n",
       " CH MM\n",
       "\n",
       "\n"
      ]
     },
     "metadata": {},
     "output_type": "display_data"
    }
   ],
   "source": [
    "set.seed(123)\n",
    "svm_radial <- svm(Purchase~ ., kernel='radial', data=train )\n",
    "summary(svm_radial)"
   ]
  },
  {
   "cell_type": "markdown",
   "id": "a4d8621f",
   "metadata": {},
   "source": [
    "Out of the 800 available observations in the dataset, the radial basis kernel with default gamma generates 367 support vectors. Minute Maid and Citrus Hill are divided into 181 and 186 vectors, respectively."
   ]
  },
  {
   "cell_type": "markdown",
   "id": "3c63ca68",
   "metadata": {},
   "source": [
    "### train and test error"
   ]
  },
  {
   "cell_type": "code",
   "execution_count": 47,
   "id": "79723106",
   "metadata": {},
   "outputs": [
    {
     "data": {
      "text/plain": [
       "    pred_train_data\n",
       "      CH  MM\n",
       "  CH 446  41\n",
       "  MM  70 243"
      ]
     },
     "metadata": {},
     "output_type": "display_data"
    },
    {
     "name": "stdout",
     "output_type": "stream",
     "text": [
      "Train Error radial basis kernel is: 13.875 %\n"
     ]
    }
   ],
   "source": [
    "pred_train_data <- predict(svm_radial, train)\n",
    "table(train$Purchase, pred_train_data)\n",
    "\n",
    "cat(\"Train Error radial basis kernel is:\", 100 * mean(pred_train_data != train$Purchase), \"%\\n\")"
   ]
  },
  {
   "cell_type": "code",
   "execution_count": 70,
   "id": "a373692c",
   "metadata": {},
   "outputs": [
    {
     "data": {
      "text/plain": [
       "    pred_test_data\n",
       "      CH  MM\n",
       "  CH 149  17\n",
       "  MM  34  70"
      ]
     },
     "metadata": {},
     "output_type": "display_data"
    },
    {
     "name": "stdout",
     "output_type": "stream",
     "text": [
      "Test Error radial basis kernel is: 18.88889 %\n"
     ]
    }
   ],
   "source": [
    "pred_test_data <- predict(svm_radial, test)\n",
    "table(test$Purchase, pred_test_data)\n",
    "\n",
    "cat(\"Test Error radial basis kernel is:\", 100 * mean(pred_test_data != test$Purchase), \"%\\n\")"
   ]
  },
  {
   "cell_type": "markdown",
   "id": "d9af6eb2",
   "metadata": {},
   "source": [
    "SVM with radial kernel: with tuning"
   ]
  },
  {
   "cell_type": "code",
   "execution_count": 67,
   "id": "0f6d5a20",
   "metadata": {},
   "outputs": [
    {
     "data": {
      "text/plain": [
       "\n",
       "Parameter tuning of ‘svm’:\n",
       "\n",
       "- sampling method: 10-fold cross validation \n",
       "\n",
       "- best parameters:\n",
       " cost\n",
       "    1\n",
       "\n",
       "- best performance: 0.16125 \n",
       "\n",
       "- Detailed performance results:\n",
       "         cost   error dispersion\n",
       "1  0.01000000 0.39125 0.04411554\n",
       "2  0.03162278 0.37750 0.05027701\n",
       "3  0.10000000 0.17625 0.06108112\n",
       "4  0.31622777 0.17125 0.05104804\n",
       "5  1.00000000 0.16125 0.04875178\n",
       "6  3.16227766 0.16375 0.04226652\n",
       "7 10.00000000 0.17000 0.04794383\n"
      ]
     },
     "metadata": {},
     "output_type": "display_data"
    },
    {
     "name": "stdout",
     "output_type": "stream",
     "text": [
      "Tuning shows that optimal cost for radial kernal is 3.162278"
     ]
    }
   ],
   "source": [
    "set.seed(123)\n",
    "\n",
    "tune_rad_data <- tune(svm, Purchase ~ ., data = train, kernel = 'radial', ranges = list(cost = 10^seq(-2,1, by = .5)))\n",
    "summary(tune_rad_data)\n",
    "\n",
    "cat(\"Tuning shows that optimal cost for radial kernal is 1\")"
   ]
  },
  {
   "cell_type": "markdown",
   "id": "ade3ca2b",
   "metadata": {},
   "source": [
    "The outcomes are only marginally superior to the linear kernel. We discover that cost = 1 and the corresponding cross-validated misclassification rate of 0.16125 are the ideal values. So it appears that the radial svm is equally effective in this situation."
   ]
  },
  {
   "cell_type": "markdown",
   "id": "d9d8385e",
   "metadata": {},
   "source": [
    "### train and test error"
   ]
  },
  {
   "cell_type": "code",
   "execution_count": 69,
   "id": "f44d9aa6",
   "metadata": {},
   "outputs": [
    {
     "data": {
      "text/plain": [
       "    tune_pred_train_data\n",
       "      CH  MM\n",
       "  CH 428  59\n",
       "  MM  69 244"
      ]
     },
     "metadata": {},
     "output_type": "display_data"
    },
    {
     "name": "stdout",
     "output_type": "stream",
     "text": [
      "Train Error after tuning is: 16 %\n"
     ]
    }
   ],
   "source": [
    "tune_svm_rad <- svm(Purchase ~ ., kernel='linear', data=train, cost=tune_rad_data$best.parameters$cost)\n",
    "tune_pred_train_data <- predict(tune_svm_rad, train)\n",
    "table(train$Purchase, tune_pred_train_data)\n",
    "\n",
    "cat(\"Train Error after tuning is:\", 100 * mean(tune_pred_train_data != train$Purchase), \"%\\n\")"
   ]
  },
  {
   "cell_type": "code",
   "execution_count": 84,
   "id": "85382fc9",
   "metadata": {},
   "outputs": [
    {
     "data": {
      "text/plain": [
       "    tune_pred_test_data\n",
       "      CH  MM\n",
       "  CH 149  17\n",
       "  MM  29  75"
      ]
     },
     "metadata": {},
     "output_type": "display_data"
    },
    {
     "name": "stdout",
     "output_type": "stream",
     "text": [
      "Test Error after tuning is: 17.03704 %\n"
     ]
    }
   ],
   "source": [
    "tune_pred_test_data <- predict(tune_svm_rad, test)\n",
    "table(test$Purchase, tune_pred_test_data)\n",
    "\n",
    "cat(\"Test Error after tuning is:\", 100 * mean(tune_pred_test_data != test$Purchase), \"%\\n\")"
   ]
  },
  {
   "cell_type": "markdown",
   "id": "508b8199",
   "metadata": {},
   "source": [
    "The basic radial kernel with the lowest cost has a training error of about 16%, which is higher than the default gamma.\n",
    "\n",
    "The basic radial kernel with the lowest cost has a test error rate of 17.03704%, which is lower than the default gamma."
   ]
  },
  {
   "cell_type": "markdown",
   "id": "ff2c51b5",
   "metadata": {},
   "source": [
    "### *(g) Repeat parts (b) through (e) using a support vector machine with a polynomial kernel. Set degree = 2.*"
   ]
  },
  {
   "cell_type": "markdown",
   "id": "4ef143e0",
   "metadata": {},
   "source": [
    "SVM with polynomial kernal: without tuning"
   ]
  },
  {
   "cell_type": "code",
   "execution_count": 74,
   "id": "9ea7a08c",
   "metadata": {},
   "outputs": [
    {
     "data": {
      "text/plain": [
       "\n",
       "Call:\n",
       "svm(formula = Purchase ~ ., data = train, kernel = \"polynomial\", \n",
       "    degree = 2)\n",
       "\n",
       "\n",
       "Parameters:\n",
       "   SVM-Type:  C-classification \n",
       " SVM-Kernel:  polynomial \n",
       "       cost:  1 \n",
       "     degree:  2 \n",
       "     coef.0:  0 \n",
       "\n",
       "Number of Support Vectors:  445\n",
       "\n",
       " ( 219 226 )\n",
       "\n",
       "\n",
       "Number of Classes:  2 \n",
       "\n",
       "Levels: \n",
       " CH MM\n",
       "\n",
       "\n"
      ]
     },
     "metadata": {},
     "output_type": "display_data"
    }
   ],
   "source": [
    "set.seed(1212)\n",
    "svm_poly<-svm(Purchase~ ., kernel='polynomial', data=train, degree=2 )\n",
    "summary(svm_poly)"
   ]
  },
  {
   "cell_type": "markdown",
   "id": "dca0bd41",
   "metadata": {},
   "source": [
    "Out of the 800 available observations in the dataset, the polynomial kernel with degree 2 generates 445 support vectors. MM and CH are divided into 226 and 219 vectors, respectively."
   ]
  },
  {
   "cell_type": "markdown",
   "id": "888a5fac",
   "metadata": {},
   "source": [
    "### train and test error"
   ]
  },
  {
   "cell_type": "code",
   "execution_count": 77,
   "id": "e1d8daa8",
   "metadata": {},
   "outputs": [
    {
     "data": {
      "text/plain": [
       "    pred_train_data\n",
       "      CH  MM\n",
       "  CH 454  33\n",
       "  MM 105 208"
      ]
     },
     "metadata": {},
     "output_type": "display_data"
    },
    {
     "name": "stdout",
     "output_type": "stream",
     "text": [
      "Train Error is: 17.25 %\n"
     ]
    }
   ],
   "source": [
    "pred_train_data<-predict(svm_poly, train)\n",
    "table(train$Purchase, pred_train_data)\n",
    "\n",
    "cat(\"Train Error is:\", 100 * mean(pred_train_data != train$Purchase), \"%\\n\")"
   ]
  },
  {
   "cell_type": "code",
   "execution_count": 86,
   "id": "19eef83b",
   "metadata": {},
   "outputs": [
    {
     "data": {
      "text/plain": [
       "    pred_test_data\n",
       "      CH  MM\n",
       "  CH 153  13\n",
       "  MM  47  57"
      ]
     },
     "metadata": {},
     "output_type": "display_data"
    },
    {
     "name": "stdout",
     "output_type": "stream",
     "text": [
      "Test Error is: 22.22222 %\n"
     ]
    }
   ],
   "source": [
    "pred_test_data<-predict(svm_poly, test)\n",
    "table(test$Purchase, pred_test_data)\n",
    "\n",
    "cat(\"Test Error is:\", 100 * mean(pred_test_data != test$Purchase), \"%\\n\")"
   ]
  },
  {
   "cell_type": "markdown",
   "id": "e8b1effd",
   "metadata": {},
   "source": [
    "SVM with polynomial kernal: with tuning"
   ]
  },
  {
   "cell_type": "code",
   "execution_count": 81,
   "id": "cceb762e",
   "metadata": {},
   "outputs": [
    {
     "data": {
      "text/plain": [
       "\n",
       "Parameter tuning of ‘svm’:\n",
       "\n",
       "- sampling method: 10-fold cross validation \n",
       "\n",
       "- best parameters:\n",
       " cost\n",
       "   10\n",
       "\n",
       "- best performance: 0.17 \n",
       "\n",
       "- Detailed performance results:\n",
       "         cost   error dispersion\n",
       "1  0.01000000 0.38875 0.02853482\n",
       "2  0.03162278 0.36000 0.03622844\n",
       "3  0.10000000 0.31500 0.02266912\n",
       "4  0.31622777 0.21375 0.03884174\n",
       "5  1.00000000 0.19750 0.03670453\n",
       "6  3.16227766 0.18000 0.04721405\n",
       "7 10.00000000 0.17000 0.04571956\n"
      ]
     },
     "metadata": {},
     "output_type": "display_data"
    },
    {
     "name": "stdout",
     "output_type": "stream",
     "text": [
      "Tuning shows that optimal cost for radial kernal is 10"
     ]
    }
   ],
   "source": [
    "tune_poly_data<-tune(svm, Purchase ~ ., data=train, kernel='polynomial', degree=2, ranges=list(cost=10^seq(-2,1, by=.5)))\n",
    "summary(tune_poly_data)\n",
    "\n",
    "cat(\"Tuning shows that optimal cost for radial kernal is 10\")"
   ]
  },
  {
   "cell_type": "markdown",
   "id": "7ad05d07",
   "metadata": {},
   "source": [
    "### train and test error"
   ]
  },
  {
   "cell_type": "code",
   "execution_count": 83,
   "id": "111fa0db",
   "metadata": {},
   "outputs": [
    {
     "data": {
      "text/plain": [
       "    tune_pred_train\n",
       "      CH  MM\n",
       "  CH 451  36\n",
       "  MM  79 234"
      ]
     },
     "metadata": {},
     "output_type": "display_data"
    },
    {
     "name": "stdout",
     "output_type": "stream",
     "text": [
      "Train Error after tuning is: 14.375 %\n"
     ]
    }
   ],
   "source": [
    "tune_svm_poly<-svm(Purchase ~ ., kernel='polynomial', data=train, degree=2, cost=tune_poly_data$best.parameters$cost)\n",
    "tune_pred_train<-predict(tune_svm_poly, train)\n",
    "table(train$Purchase, tune_pred_train)\n",
    "\n",
    "cat(\"Train Error after tuning is:\", 100 * mean(tune_pred_train != train$Purchase), \"%\\n\")"
   ]
  },
  {
   "cell_type": "code",
   "execution_count": 85,
   "id": "5325b71b",
   "metadata": {},
   "outputs": [
    {
     "data": {
      "text/plain": [
       "    tune_pred_test\n",
       "      CH  MM\n",
       "  CH 150  16\n",
       "  MM  39  65"
      ]
     },
     "metadata": {},
     "output_type": "display_data"
    },
    {
     "name": "stdout",
     "output_type": "stream",
     "text": [
      "Test Error after tuning is: 20.37037 %\n"
     ]
    }
   ],
   "source": [
    "tune_pred_test<-predict(tune_svm_poly, test)\n",
    "table(test$Purchase, tune_pred_test)\n",
    "\n",
    "cat(\"Test Error after tuning is:\", 100 * mean(tune_pred_test != test$Purchase), \"%\\n\")"
   ]
  },
  {
   "cell_type": "markdown",
   "id": "58201c6e",
   "metadata": {},
   "source": [
    "There is a decrease in error compared to the original polynomial kernel with the test error for the polynomial kernel with the most optimal cost being 20.3% and the train error being 14.3%."
   ]
  },
  {
   "cell_type": "markdown",
   "id": "735d721b",
   "metadata": {},
   "source": [
    "### *(h) Overall, which approach seems to give the best results on this data?*"
   ]
  },
  {
   "cell_type": "markdown",
   "id": "13f9b33e",
   "metadata": {},
   "source": [
    "Even though all of the models are relatively similar, the radial kernel with the default gamma performs best overall by a very slight margin. The training with this method had the lowest misclassification rate, but for test error linear model with optimal cost performed better."
   ]
  },
  {
   "cell_type": "markdown",
   "id": "5a408480",
   "metadata": {},
   "source": [
    "# Question 7"
   ]
  },
  {
   "cell_type": "markdown",
   "id": "0cc089b6",
   "metadata": {},
   "source": [
    "## Fit a neural network to the Default data in the ISLR2 package. Use a single hidden layer with 10 units, and regularization. Have a look at ISLR Labs 10.9.1–10.9.2, and in class, for guidance. Compare the classification performance of yourmodel with that of logistic regression."
   ]
  },
  {
   "cell_type": "markdown",
   "id": "87a60afa",
   "metadata": {},
   "source": [
    "Loading libraries"
   ]
  },
  {
   "cell_type": "code",
   "execution_count": 1,
   "id": "444dab22",
   "metadata": {},
   "outputs": [
    {
     "name": "stdout",
     "output_type": "stream",
     "text": [
      "\n",
      "The downloaded binary packages are in\n",
      "\t/var/folders/ch/lqq67w6x5px6fcc9cnbp457m0000gn/T//RtmpCtBeDG/downloaded_packages\n",
      "\n",
      "The downloaded binary packages are in\n",
      "\t/var/folders/ch/lqq67w6x5px6fcc9cnbp457m0000gn/T//RtmpCtBeDG/downloaded_packages\n",
      "\n",
      "The downloaded binary packages are in\n",
      "\t/var/folders/ch/lqq67w6x5px6fcc9cnbp457m0000gn/T//RtmpCtBeDG/downloaded_packages\n",
      "\n",
      "The downloaded binary packages are in\n",
      "\t/var/folders/ch/lqq67w6x5px6fcc9cnbp457m0000gn/T//RtmpCtBeDG/downloaded_packages\n",
      "\n",
      "The downloaded binary packages are in\n",
      "\t/var/folders/ch/lqq67w6x5px6fcc9cnbp457m0000gn/T//RtmpCtBeDG/downloaded_packages\n",
      "\n",
      "The downloaded binary packages are in\n",
      "\t/var/folders/ch/lqq67w6x5px6fcc9cnbp457m0000gn/T//RtmpCtBeDG/downloaded_packages\n"
     ]
    },
    {
     "name": "stderr",
     "output_type": "stream",
     "text": [
      "\n",
      "Attaching package: ‘dplyr’\n",
      "\n",
      "\n",
      "The following objects are masked from ‘package:stats’:\n",
      "\n",
      "    filter, lag\n",
      "\n",
      "\n",
      "The following objects are masked from ‘package:base’:\n",
      "\n",
      "    intersect, setdiff, setequal, union\n",
      "\n",
      "\n",
      "\n",
      "Attaching package: ‘neuralnet’\n",
      "\n",
      "\n",
      "The following object is masked from ‘package:dplyr’:\n",
      "\n",
      "    compute\n",
      "\n",
      "\n"
     ]
    },
    {
     "ename": "ERROR",
     "evalue": "Error in use_condaenv(\"r-tensorflow\"): Unable to locate conda environment 'r-tensorflow'.\n",
     "output_type": "error",
     "traceback": [
      "Error in use_condaenv(\"r-tensorflow\"): Unable to locate conda environment 'r-tensorflow'.\nTraceback:\n",
      "1. use_condaenv(\"r-tensorflow\")",
      "2. stop(\"Unable to locate conda environment '\", condaenv, \"'.\")"
     ]
    }
   ],
   "source": [
    "install.packages('ISLR2')\n",
    "install.packages('neuralnet')\n",
    "install.packages('nnet')\n",
    "install.packages('dplyr')\n",
    "install.packages('keras')\n",
    "install.packages('tensorflow')\n",
    "library(tensorflow)\n",
    "library(dplyr)\n",
    "library(ISLR2)\n",
    "library(neuralnet)\n",
    "library(nnet)\n",
    "library(keras)\n",
    "\n",
    "use_condaenv(\"r-tensorflow\")"
   ]
  },
  {
   "cell_type": "code",
   "execution_count": 2,
   "id": "fc3824b5",
   "metadata": {},
   "outputs": [],
   "source": [
    "data(Default)"
   ]
  },
  {
   "cell_type": "code",
   "execution_count": 3,
   "id": "e78ff740",
   "metadata": {},
   "outputs": [
    {
     "data": {
      "text/plain": [
       " default    student       balance           income     \n",
       " No :9667   No :7056   Min.   :   0.0   Min.   :  772  \n",
       " Yes: 333   Yes:2944   1st Qu.: 481.7   1st Qu.:21340  \n",
       "                       Median : 823.6   Median :34553  \n",
       "                       Mean   : 835.4   Mean   :33517  \n",
       "                       3rd Qu.:1166.3   3rd Qu.:43808  \n",
       "                       Max.   :2654.3   Max.   :73554  "
      ]
     },
     "metadata": {},
     "output_type": "display_data"
    }
   ],
   "source": [
    "summary(Default)"
   ]
  },
  {
   "cell_type": "markdown",
   "id": "9669c13d",
   "metadata": {},
   "source": [
    "split train and test data"
   ]
  },
  {
   "cell_type": "code",
   "execution_count": 4,
   "id": "6ba69bc4",
   "metadata": {},
   "outputs": [],
   "source": [
    "set.seed(123)\n",
    "indis <- sample(1:length(Default[,1]), 2/3*length(Default[,1]), replace = FALSE)\n",
    "train <- Default[indis, ]\n",
    "test <- Default[-indis, ]\n",
    "\n",
    "n <- nrow(Default)\n",
    "ntest <- trunc(n/5)\n",
    "testid <- sample(1:n, ntest)\n",
    "y_test <- Default$default[testid] == 'Yes'"
   ]
  },
  {
   "cell_type": "markdown",
   "id": "61158590",
   "metadata": {},
   "source": [
    "One thing to keep in mind is that in the example above, our default variables are No (if the Default is FALSE) and Yes (if the Default is TRUE).\n",
    "\n",
    "Let's train our linear logistic regression model, then evaluate it using the validation set. It will forecast Default in our model. Yes, if the likelihood of default is higher than 0.5. In other words, our model will forecast P(Default|X). Our model will label X as a Default TRUE if this probability is larger than 0.5. Otherwise, it will identify X as a Default FALSE."
   ]
  },
  {
   "cell_type": "code",
   "execution_count": 5,
   "id": "ded1f8b4",
   "metadata": {},
   "outputs": [
    {
     "data": {
      "text/html": [
       "<table class=\"dataframe\">\n",
       "<caption>A data.frame: 5 × 4</caption>\n",
       "<thead>\n",
       "\t<tr><th></th><th scope=col>default</th><th scope=col>student</th><th scope=col>balance</th><th scope=col>income</th></tr>\n",
       "\t<tr><th></th><th scope=col>&lt;fct&gt;</th><th scope=col>&lt;fct&gt;</th><th scope=col>&lt;dbl&gt;</th><th scope=col>&lt;dbl&gt;</th></tr>\n",
       "</thead>\n",
       "<tbody>\n",
       "\t<tr><th scope=row>2463</th><td>No</td><td>No </td><td> 559.4686</td><td>61187.81</td></tr>\n",
       "\t<tr><th scope=row>2511</th><td>No</td><td>No </td><td> 905.6415</td><td>47271.35</td></tr>\n",
       "\t<tr><th scope=row>8718</th><td>No</td><td>Yes</td><td>1806.5517</td><td>17648.20</td></tr>\n",
       "\t<tr><th scope=row>2986</th><td>No</td><td>No </td><td>1615.2250</td><td>55219.52</td></tr>\n",
       "\t<tr><th scope=row>1842</th><td>No</td><td>Yes</td><td>1229.4415</td><td>12158.04</td></tr>\n",
       "</tbody>\n",
       "</table>\n"
      ],
      "text/latex": [
       "A data.frame: 5 × 4\n",
       "\\begin{tabular}{r|llll}\n",
       "  & default & student & balance & income\\\\\n",
       "  & <fct> & <fct> & <dbl> & <dbl>\\\\\n",
       "\\hline\n",
       "\t2463 & No & No  &  559.4686 & 61187.81\\\\\n",
       "\t2511 & No & No  &  905.6415 & 47271.35\\\\\n",
       "\t8718 & No & Yes & 1806.5517 & 17648.20\\\\\n",
       "\t2986 & No & No  & 1615.2250 & 55219.52\\\\\n",
       "\t1842 & No & Yes & 1229.4415 & 12158.04\\\\\n",
       "\\end{tabular}\n"
      ],
      "text/markdown": [
       "\n",
       "A data.frame: 5 × 4\n",
       "\n",
       "| <!--/--> | default &lt;fct&gt; | student &lt;fct&gt; | balance &lt;dbl&gt; | income &lt;dbl&gt; |\n",
       "|---|---|---|---|---|\n",
       "| 2463 | No | No  |  559.4686 | 61187.81 |\n",
       "| 2511 | No | No  |  905.6415 | 47271.35 |\n",
       "| 8718 | No | Yes | 1806.5517 | 17648.20 |\n",
       "| 2986 | No | No  | 1615.2250 | 55219.52 |\n",
       "| 1842 | No | Yes | 1229.4415 | 12158.04 |\n",
       "\n"
      ],
      "text/plain": [
       "     default student balance   income  \n",
       "2463 No      No       559.4686 61187.81\n",
       "2511 No      No       905.6415 47271.35\n",
       "8718 No      Yes     1806.5517 17648.20\n",
       "2986 No      No      1615.2250 55219.52\n",
       "1842 No      Yes     1229.4415 12158.04"
      ]
     },
     "metadata": {},
     "output_type": "display_data"
    }
   ],
   "source": [
    "head(train,5)"
   ]
  },
  {
   "cell_type": "markdown",
   "id": "9cd10ebf",
   "metadata": {},
   "source": [
    "### Logistic Regression"
   ]
  },
  {
   "cell_type": "code",
   "execution_count": 6,
   "id": "120d1947",
   "metadata": {},
   "outputs": [
    {
     "name": "stderr",
     "output_type": "stream",
     "text": [
      "Warning message in lm_pred == y_test:\n",
      "“longer object length is not a multiple of shorter object length”\n"
     ]
    },
    {
     "name": "stdout",
     "output_type": "stream",
     "text": [
      "Accuracy of Logistic regression model is: 95.67957 %\n"
     ]
    }
   ],
   "source": [
    "lm_model <- glm(default~student+balance+income,family=\"binomial\",data=train)\n",
    "lm_pred <- predict(lm_model, data=test, type='response') > 0.5\n",
    "lm_accuracy = mean(lm_pred == y_test)\n",
    "\n",
    "cat(\"Accuracy of Logistic regression model is:\", 100 * lm_accuracy, \"%\\n\")"
   ]
  },
  {
   "cell_type": "markdown",
   "id": "7d6ac3f0",
   "metadata": {},
   "source": [
    "### Neural Network"
   ]
  },
  {
   "cell_type": "markdown",
   "id": "6bc1adeb",
   "metadata": {},
   "source": [
    "train a neural network\n",
    "\n",
    "\n",
    "\n",
    "First, we employ model.matrix(), which generates the same matrix as lm() (the -1 omits the intercept). This function automatically changes variables into dummy factors."
   ]
  },
  {
   "cell_type": "code",
   "execution_count": 7,
   "id": "a43dd0aa",
   "metadata": {},
   "outputs": [],
   "source": [
    "x = model.matrix(default ~. -1, data=Default)"
   ]
  },
  {
   "cell_type": "markdown",
   "id": "e03afaab",
   "metadata": {},
   "source": [
    "Using the function keras_model_sequential(), we added details about the subsequent layers in a sequential manner to the vanilla model object we generated and named modnn."
   ]
  },
  {
   "cell_type": "code",
   "execution_count": 8,
   "id": "32b4a6bf",
   "metadata": {},
   "outputs": [
    {
     "name": "stderr",
     "output_type": "stream",
     "text": [
      "Loaded Tensorflow version 2.11.0\n",
      "\n"
     ]
    }
   ],
   "source": [
    "x_train <- x[-testid,]\n",
    "g_train <- Default$default[-testid]=='Yes'\n",
    "\n",
    "x_test <- x[testid,]\n",
    "g_test <- Default$default[testid] == 'Yes'\n",
    "\n",
    "modnn <- keras_model_sequential() %>% \n",
    "  layer_dense(units=10, activation='relu', input_shape=ncol(x)) %>%\n",
    "  layer_dropout(rate=0.4) %>% \n",
    "  layer_dense(units = 1, activation='sigmoid')"
   ]
  },
  {
   "cell_type": "markdown",
   "id": "fafe8232",
   "metadata": {},
   "source": [
    "compile our model."
   ]
  },
  {
   "cell_type": "code",
   "execution_count": 12,
   "id": "77dce81e",
   "metadata": {},
   "outputs": [],
   "source": [
    "modnn %>% compile(\n",
    "  optimizer='rmsprop', \n",
    "  loss='binary_crossentropy', \n",
    "  metrics='accuracy')\n",
    "\n",
    "# modnn %>% compile(loss = \"mse\",\n",
    "#                   optimizer = optimizer_rmsprop(),\n",
    "#                   metrics = list(\"mean_absolute_error\") \n",
    "#                  )"
   ]
  },
  {
   "cell_type": "markdown",
   "id": "bb0a29d7",
   "metadata": {},
   "source": [
    "fit model to our data. Using 128 for the latter means that at each step of SGD, the algorithm randomly selects 128 training observations for the computation of the gradient"
   ]
  },
  {
   "cell_type": "code",
   "execution_count": 13,
   "id": "81af78f7",
   "metadata": {},
   "outputs": [],
   "source": [
    "history <- modnn %>% fit(\n",
    "  x = x_train, \n",
    "  y = g_train, \n",
    "  epochs=30, \n",
    "  batch_size=128)"
   ]
  },
  {
   "cell_type": "markdown",
   "id": "59ad36f0",
   "metadata": {},
   "source": [
    "predict from the final model, and evaluate its performance on the test data; neural network accuracy."
   ]
  },
  {
   "cell_type": "code",
   "execution_count": 15,
   "id": "1c4687a7",
   "metadata": {},
   "outputs": [
    {
     "name": "stdout",
     "output_type": "stream",
     "text": [
      "Accuracy of neural network is: 97.3 %\n"
     ]
    }
   ],
   "source": [
    "nnpred <- predict(modnn, x_test) > 0.5\n",
    "nn.accuracy <- mean(nnpred == g_test)\n",
    "cat(\"Accuracy of neural network is:\", 100 * nn.accuracy, \"%\\n\")"
   ]
  },
  {
   "cell_type": "markdown",
   "id": "f2907d4e",
   "metadata": {},
   "source": [
    "As we can see, the accuracy of our neural network test set is approximately 97%. This is comparable to our 95% accurate linear logistic regression."
   ]
  },
  {
   "cell_type": "markdown",
   "id": "404c825b",
   "metadata": {},
   "source": [
    "# Question 5"
   ]
  },
  {
   "cell_type": "markdown",
   "id": "6450b51f",
   "metadata": {},
   "source": [
    "### From your collection of personal photographs, pick 10 images of animals (such as dogs, cats, birds, farm animals, etc.). If the subject does not occupy a reasonable part of the image, then crop the image. Now use a pretrained image classification CNN as in Lab ISLR 10.9.4 to predict the class of each of your images and report the probabilities for the top five predicted classes for each image."
   ]
  },
  {
   "cell_type": "markdown",
   "id": "c8d2b564",
   "metadata": {},
   "source": [
    "Loading Images "
   ]
  },
  {
   "cell_type": "code",
   "execution_count": 39,
   "id": "ba102d2e",
   "metadata": {},
   "outputs": [],
   "source": [
    "img_dir <- \"/Users/sreeragvenugopalan/Desktop/Sem 1/Statistical Data Mining/HW/5/animal_pics\"\n",
    "image_names <- list.files(img_dir)\n",
    "animal_images <- length(image_names)"
   ]
  },
  {
   "cell_type": "markdown",
   "id": "4da2cc3d",
   "metadata": {},
   "source": [
    "Each image must be transformed into the array \"x\" format required by the keras software and required by the imagenet database."
   ]
  },
  {
   "cell_type": "code",
   "execution_count": 40,
   "id": "58c74729",
   "metadata": {},
   "outputs": [],
   "source": [
    "x <- array(dim = c(animal_images , 224, 224, 3))\n",
    "for (i in 1:animal_images) {\n",
    "  img_path <- paste(img_dir , image_names[i], sep = \"/\")\n",
    "  img <- image_load(img_path, target_size = c(224 , 224))\n",
    "  x[i,,, ] <- image_to_array(img)\n",
    "}\n",
    "x <- imagenet_preprocess_input(x)"
   ]
  },
  {
   "cell_type": "markdown",
   "id": "102779ae",
   "metadata": {},
   "source": [
    "Now that the 10 photos have been imported into variable \"x,\" we will utilize the trained network to classify them."
   ]
  },
  {
   "cell_type": "code",
   "execution_count": 41,
   "id": "40705852",
   "metadata": {},
   "outputs": [],
   "source": [
    "model <- application_resnet50(weights = \"imagenet\")"
   ]
  },
  {
   "cell_type": "markdown",
   "id": "77c532ff",
   "metadata": {},
   "source": [
    "After classifying our ten photos, we return the top five classes based on anticipated likelihood."
   ]
  },
  {
   "cell_type": "code",
   "execution_count": 42,
   "id": "d011c84a",
   "metadata": {
    "scrolled": false
   },
   "outputs": [
    {
     "data": {
      "text/html": [
       "<dl>\n",
       "\t<dt>$bear1.jpeg</dt>\n",
       "\t\t<dd><table class=\"dataframe\">\n",
       "<caption>A data.frame: 5 × 3</caption>\n",
       "<thead>\n",
       "\t<tr><th scope=col>class_name</th><th scope=col>class_description</th><th scope=col>score</th></tr>\n",
       "\t<tr><th scope=col>&lt;chr&gt;</th><th scope=col>&lt;chr&gt;</th><th scope=col>&lt;dbl&gt;</th></tr>\n",
       "</thead>\n",
       "<tbody>\n",
       "\t<tr><td>n02132136</td><td>brown_bear         </td><td>9.983271e-01</td></tr>\n",
       "\t<tr><td>n02133161</td><td>American_black_bear</td><td>9.804289e-04</td></tr>\n",
       "\t<tr><td>n02504013</td><td>Indian_elephant    </td><td>1.942050e-04</td></tr>\n",
       "\t<tr><td>n02134418</td><td>sloth_bear         </td><td>7.829728e-05</td></tr>\n",
       "\t<tr><td>n01871265</td><td>tusker             </td><td>6.653819e-05</td></tr>\n",
       "</tbody>\n",
       "</table>\n",
       "</dd>\n",
       "\t<dt>$bear2.jpeg</dt>\n",
       "\t\t<dd><table class=\"dataframe\">\n",
       "<caption>A data.frame: 5 × 3</caption>\n",
       "<thead>\n",
       "\t<tr><th scope=col>class_name</th><th scope=col>class_description</th><th scope=col>score</th></tr>\n",
       "\t<tr><th scope=col>&lt;chr&gt;</th><th scope=col>&lt;chr&gt;</th><th scope=col>&lt;dbl&gt;</th></tr>\n",
       "</thead>\n",
       "<tbody>\n",
       "\t<tr><td>n02132136</td><td>brown_bear         </td><td>9.994561e-01</td></tr>\n",
       "\t<tr><td>n02437312</td><td>Arabian_camel      </td><td>1.399826e-04</td></tr>\n",
       "\t<tr><td>n02410509</td><td>bison              </td><td>1.260052e-04</td></tr>\n",
       "\t<tr><td>n02133161</td><td>American_black_bear</td><td>3.473239e-05</td></tr>\n",
       "\t<tr><td>n02112137</td><td>chow               </td><td>3.305958e-05</td></tr>\n",
       "</tbody>\n",
       "</table>\n",
       "</dd>\n",
       "\t<dt>$`bull dog.jpeg`</dt>\n",
       "\t\t<dd><table class=\"dataframe\">\n",
       "<caption>A data.frame: 5 × 3</caption>\n",
       "<thead>\n",
       "\t<tr><th scope=col>class_name</th><th scope=col>class_description</th><th scope=col>score</th></tr>\n",
       "\t<tr><th scope=col>&lt;chr&gt;</th><th scope=col>&lt;chr&gt;</th><th scope=col>&lt;dbl&gt;</th></tr>\n",
       "</thead>\n",
       "<tbody>\n",
       "\t<tr><td>n02093428</td><td>American_Staffordshire_terrier</td><td>0.80314577</td></tr>\n",
       "\t<tr><td>n02087394</td><td>Rhodesian_ridgeback           </td><td>0.08103683</td></tr>\n",
       "\t<tr><td>n02100583</td><td>vizsla                        </td><td>0.06271304</td></tr>\n",
       "\t<tr><td>n02105412</td><td>kelpie                        </td><td>0.03468334</td></tr>\n",
       "\t<tr><td>n02099849</td><td>Chesapeake_Bay_retriever      </td><td>0.01001645</td></tr>\n",
       "</tbody>\n",
       "</table>\n",
       "</dd>\n",
       "\t<dt>$cat.jpeg</dt>\n",
       "\t\t<dd><table class=\"dataframe\">\n",
       "<caption>A data.frame: 5 × 3</caption>\n",
       "<thead>\n",
       "\t<tr><th scope=col>class_name</th><th scope=col>class_description</th><th scope=col>score</th></tr>\n",
       "\t<tr><th scope=col>&lt;chr&gt;</th><th scope=col>&lt;chr&gt;</th><th scope=col>&lt;dbl&gt;</th></tr>\n",
       "</thead>\n",
       "<tbody>\n",
       "\t<tr><td>n02123159</td><td>tiger_cat    </td><td>0.409328610</td></tr>\n",
       "\t<tr><td>n02124075</td><td>Egyptian_cat </td><td>0.323106885</td></tr>\n",
       "\t<tr><td>n02123045</td><td>tabby        </td><td>0.249603629</td></tr>\n",
       "\t<tr><td>n02127052</td><td>lynx         </td><td>0.004285372</td></tr>\n",
       "\t<tr><td>n04589890</td><td>window_screen</td><td>0.002157560</td></tr>\n",
       "</tbody>\n",
       "</table>\n",
       "</dd>\n",
       "\t<dt>$cat2.jpeg</dt>\n",
       "\t\t<dd><table class=\"dataframe\">\n",
       "<caption>A data.frame: 5 × 3</caption>\n",
       "<thead>\n",
       "\t<tr><th scope=col>class_name</th><th scope=col>class_description</th><th scope=col>score</th></tr>\n",
       "\t<tr><th scope=col>&lt;chr&gt;</th><th scope=col>&lt;chr&gt;</th><th scope=col>&lt;dbl&gt;</th></tr>\n",
       "</thead>\n",
       "<tbody>\n",
       "\t<tr><td>n02127052</td><td>lynx        </td><td>0.657612503</td></tr>\n",
       "\t<tr><td>n02123045</td><td>tabby       </td><td>0.176928356</td></tr>\n",
       "\t<tr><td>n02124075</td><td>Egyptian_cat</td><td>0.076254085</td></tr>\n",
       "\t<tr><td>n02123159</td><td>tiger_cat   </td><td>0.072994851</td></tr>\n",
       "\t<tr><td>n02128757</td><td>snow_leopard</td><td>0.004139737</td></tr>\n",
       "</tbody>\n",
       "</table>\n",
       "</dd>\n",
       "\t<dt>$cow1.jpeg</dt>\n",
       "\t\t<dd><table class=\"dataframe\">\n",
       "<caption>A data.frame: 5 × 3</caption>\n",
       "<thead>\n",
       "\t<tr><th scope=col>class_name</th><th scope=col>class_description</th><th scope=col>score</th></tr>\n",
       "\t<tr><th scope=col>&lt;chr&gt;</th><th scope=col>&lt;chr&gt;</th><th scope=col>&lt;dbl&gt;</th></tr>\n",
       "</thead>\n",
       "<tbody>\n",
       "\t<tr><td>n02403003</td><td>ox          </td><td>0.72211969</td></tr>\n",
       "\t<tr><td>n02412080</td><td>ram         </td><td>0.04176744</td></tr>\n",
       "\t<tr><td>n02389026</td><td>sorrel      </td><td>0.04012486</td></tr>\n",
       "\t<tr><td>n02398521</td><td>hippopotamus</td><td>0.03507461</td></tr>\n",
       "\t<tr><td>n03868242</td><td>oxcart      </td><td>0.03093151</td></tr>\n",
       "</tbody>\n",
       "</table>\n",
       "</dd>\n",
       "\t<dt>$cow2.jpeg</dt>\n",
       "\t\t<dd><table class=\"dataframe\">\n",
       "<caption>A data.frame: 5 × 3</caption>\n",
       "<thead>\n",
       "\t<tr><th scope=col>class_name</th><th scope=col>class_description</th><th scope=col>score</th></tr>\n",
       "\t<tr><th scope=col>&lt;chr&gt;</th><th scope=col>&lt;chr&gt;</th><th scope=col>&lt;dbl&gt;</th></tr>\n",
       "</thead>\n",
       "<tbody>\n",
       "\t<tr><td>n02403003</td><td>ox         </td><td>0.49725905</td></tr>\n",
       "\t<tr><td>n01582220</td><td>magpie     </td><td>0.24009100</td></tr>\n",
       "\t<tr><td>n02412080</td><td>ram        </td><td>0.05741597</td></tr>\n",
       "\t<tr><td>n02437616</td><td>llama      </td><td>0.03806624</td></tr>\n",
       "\t<tr><td>n02002724</td><td>black_stork</td><td>0.02035809</td></tr>\n",
       "</tbody>\n",
       "</table>\n",
       "</dd>\n",
       "\t<dt>$lab.jpeg</dt>\n",
       "\t\t<dd><table class=\"dataframe\">\n",
       "<caption>A data.frame: 5 × 3</caption>\n",
       "<thead>\n",
       "\t<tr><th scope=col>class_name</th><th scope=col>class_description</th><th scope=col>score</th></tr>\n",
       "\t<tr><th scope=col>&lt;chr&gt;</th><th scope=col>&lt;chr&gt;</th><th scope=col>&lt;dbl&gt;</th></tr>\n",
       "</thead>\n",
       "<tbody>\n",
       "\t<tr><td>n02099712</td><td>Labrador_retriever </td><td>0.47187251</td></tr>\n",
       "\t<tr><td>n02099601</td><td>golden_retriever   </td><td>0.42569271</td></tr>\n",
       "\t<tr><td>n02088466</td><td>bloodhound         </td><td>0.02214054</td></tr>\n",
       "\t<tr><td>n02109047</td><td>Great_Dane         </td><td>0.01656094</td></tr>\n",
       "\t<tr><td>n02087394</td><td>Rhodesian_ridgeback</td><td>0.01410496</td></tr>\n",
       "</tbody>\n",
       "</table>\n",
       "</dd>\n",
       "\t<dt>$zebra.jpeg</dt>\n",
       "\t\t<dd><table class=\"dataframe\">\n",
       "<caption>A data.frame: 5 × 3</caption>\n",
       "<thead>\n",
       "\t<tr><th scope=col>class_name</th><th scope=col>class_description</th><th scope=col>score</th></tr>\n",
       "\t<tr><th scope=col>&lt;chr&gt;</th><th scope=col>&lt;chr&gt;</th><th scope=col>&lt;dbl&gt;</th></tr>\n",
       "</thead>\n",
       "<tbody>\n",
       "\t<tr><td>n02391049</td><td>zebra          </td><td>0.9951559305</td></tr>\n",
       "\t<tr><td>n01798484</td><td>prairie_chicken</td><td>0.0010698679</td></tr>\n",
       "\t<tr><td>n02423022</td><td>gazelle        </td><td>0.0007163025</td></tr>\n",
       "\t<tr><td>n02422106</td><td>hartebeest     </td><td>0.0003950584</td></tr>\n",
       "\t<tr><td>n02129604</td><td>tiger          </td><td>0.0003688071</td></tr>\n",
       "</tbody>\n",
       "</table>\n",
       "</dd>\n",
       "\t<dt>$zebra2.jpeg</dt>\n",
       "\t\t<dd><table class=\"dataframe\">\n",
       "<caption>A data.frame: 5 × 3</caption>\n",
       "<thead>\n",
       "\t<tr><th scope=col>class_name</th><th scope=col>class_description</th><th scope=col>score</th></tr>\n",
       "\t<tr><th scope=col>&lt;chr&gt;</th><th scope=col>&lt;chr&gt;</th><th scope=col>&lt;dbl&gt;</th></tr>\n",
       "</thead>\n",
       "<tbody>\n",
       "\t<tr><td>n02391049</td><td>zebra          </td><td>9.999850e-01</td></tr>\n",
       "\t<tr><td>n02643566</td><td>lionfish       </td><td>6.445944e-06</td></tr>\n",
       "\t<tr><td>n02422699</td><td>impala         </td><td>1.501251e-06</td></tr>\n",
       "\t<tr><td>n01798484</td><td>prairie_chicken</td><td>1.404495e-06</td></tr>\n",
       "\t<tr><td>n02423022</td><td>gazelle        </td><td>9.710911e-07</td></tr>\n",
       "</tbody>\n",
       "</table>\n",
       "</dd>\n",
       "</dl>\n"
      ],
      "text/latex": [
       "\\begin{description}\n",
       "\\item[\\$bear1.jpeg] A data.frame: 5 × 3\n",
       "\\begin{tabular}{lll}\n",
       " class\\_name & class\\_description & score\\\\\n",
       " <chr> & <chr> & <dbl>\\\\\n",
       "\\hline\n",
       "\t n02132136 & brown\\_bear          & 9.983271e-01\\\\\n",
       "\t n02133161 & American\\_black\\_bear & 9.804289e-04\\\\\n",
       "\t n02504013 & Indian\\_elephant     & 1.942050e-04\\\\\n",
       "\t n02134418 & sloth\\_bear          & 7.829728e-05\\\\\n",
       "\t n01871265 & tusker              & 6.653819e-05\\\\\n",
       "\\end{tabular}\n",
       "\n",
       "\\item[\\$bear2.jpeg] A data.frame: 5 × 3\n",
       "\\begin{tabular}{lll}\n",
       " class\\_name & class\\_description & score\\\\\n",
       " <chr> & <chr> & <dbl>\\\\\n",
       "\\hline\n",
       "\t n02132136 & brown\\_bear          & 9.994561e-01\\\\\n",
       "\t n02437312 & Arabian\\_camel       & 1.399826e-04\\\\\n",
       "\t n02410509 & bison               & 1.260052e-04\\\\\n",
       "\t n02133161 & American\\_black\\_bear & 3.473239e-05\\\\\n",
       "\t n02112137 & chow                & 3.305958e-05\\\\\n",
       "\\end{tabular}\n",
       "\n",
       "\\item[\\$`bull dog.jpeg`] A data.frame: 5 × 3\n",
       "\\begin{tabular}{lll}\n",
       " class\\_name & class\\_description & score\\\\\n",
       " <chr> & <chr> & <dbl>\\\\\n",
       "\\hline\n",
       "\t n02093428 & American\\_Staffordshire\\_terrier & 0.80314577\\\\\n",
       "\t n02087394 & Rhodesian\\_ridgeback            & 0.08103683\\\\\n",
       "\t n02100583 & vizsla                         & 0.06271304\\\\\n",
       "\t n02105412 & kelpie                         & 0.03468334\\\\\n",
       "\t n02099849 & Chesapeake\\_Bay\\_retriever       & 0.01001645\\\\\n",
       "\\end{tabular}\n",
       "\n",
       "\\item[\\$cat.jpeg] A data.frame: 5 × 3\n",
       "\\begin{tabular}{lll}\n",
       " class\\_name & class\\_description & score\\\\\n",
       " <chr> & <chr> & <dbl>\\\\\n",
       "\\hline\n",
       "\t n02123159 & tiger\\_cat     & 0.409328610\\\\\n",
       "\t n02124075 & Egyptian\\_cat  & 0.323106885\\\\\n",
       "\t n02123045 & tabby         & 0.249603629\\\\\n",
       "\t n02127052 & lynx          & 0.004285372\\\\\n",
       "\t n04589890 & window\\_screen & 0.002157560\\\\\n",
       "\\end{tabular}\n",
       "\n",
       "\\item[\\$cat2.jpeg] A data.frame: 5 × 3\n",
       "\\begin{tabular}{lll}\n",
       " class\\_name & class\\_description & score\\\\\n",
       " <chr> & <chr> & <dbl>\\\\\n",
       "\\hline\n",
       "\t n02127052 & lynx         & 0.657612503\\\\\n",
       "\t n02123045 & tabby        & 0.176928356\\\\\n",
       "\t n02124075 & Egyptian\\_cat & 0.076254085\\\\\n",
       "\t n02123159 & tiger\\_cat    & 0.072994851\\\\\n",
       "\t n02128757 & snow\\_leopard & 0.004139737\\\\\n",
       "\\end{tabular}\n",
       "\n",
       "\\item[\\$cow1.jpeg] A data.frame: 5 × 3\n",
       "\\begin{tabular}{lll}\n",
       " class\\_name & class\\_description & score\\\\\n",
       " <chr> & <chr> & <dbl>\\\\\n",
       "\\hline\n",
       "\t n02403003 & ox           & 0.72211969\\\\\n",
       "\t n02412080 & ram          & 0.04176744\\\\\n",
       "\t n02389026 & sorrel       & 0.04012486\\\\\n",
       "\t n02398521 & hippopotamus & 0.03507461\\\\\n",
       "\t n03868242 & oxcart       & 0.03093151\\\\\n",
       "\\end{tabular}\n",
       "\n",
       "\\item[\\$cow2.jpeg] A data.frame: 5 × 3\n",
       "\\begin{tabular}{lll}\n",
       " class\\_name & class\\_description & score\\\\\n",
       " <chr> & <chr> & <dbl>\\\\\n",
       "\\hline\n",
       "\t n02403003 & ox          & 0.49725905\\\\\n",
       "\t n01582220 & magpie      & 0.24009100\\\\\n",
       "\t n02412080 & ram         & 0.05741597\\\\\n",
       "\t n02437616 & llama       & 0.03806624\\\\\n",
       "\t n02002724 & black\\_stork & 0.02035809\\\\\n",
       "\\end{tabular}\n",
       "\n",
       "\\item[\\$lab.jpeg] A data.frame: 5 × 3\n",
       "\\begin{tabular}{lll}\n",
       " class\\_name & class\\_description & score\\\\\n",
       " <chr> & <chr> & <dbl>\\\\\n",
       "\\hline\n",
       "\t n02099712 & Labrador\\_retriever  & 0.47187251\\\\\n",
       "\t n02099601 & golden\\_retriever    & 0.42569271\\\\\n",
       "\t n02088466 & bloodhound          & 0.02214054\\\\\n",
       "\t n02109047 & Great\\_Dane          & 0.01656094\\\\\n",
       "\t n02087394 & Rhodesian\\_ridgeback & 0.01410496\\\\\n",
       "\\end{tabular}\n",
       "\n",
       "\\item[\\$zebra.jpeg] A data.frame: 5 × 3\n",
       "\\begin{tabular}{lll}\n",
       " class\\_name & class\\_description & score\\\\\n",
       " <chr> & <chr> & <dbl>\\\\\n",
       "\\hline\n",
       "\t n02391049 & zebra           & 0.9951559305\\\\\n",
       "\t n01798484 & prairie\\_chicken & 0.0010698679\\\\\n",
       "\t n02423022 & gazelle         & 0.0007163025\\\\\n",
       "\t n02422106 & hartebeest      & 0.0003950584\\\\\n",
       "\t n02129604 & tiger           & 0.0003688071\\\\\n",
       "\\end{tabular}\n",
       "\n",
       "\\item[\\$zebra2.jpeg] A data.frame: 5 × 3\n",
       "\\begin{tabular}{lll}\n",
       " class\\_name & class\\_description & score\\\\\n",
       " <chr> & <chr> & <dbl>\\\\\n",
       "\\hline\n",
       "\t n02391049 & zebra           & 9.999850e-01\\\\\n",
       "\t n02643566 & lionfish        & 6.445944e-06\\\\\n",
       "\t n02422699 & impala          & 1.501251e-06\\\\\n",
       "\t n01798484 & prairie\\_chicken & 1.404495e-06\\\\\n",
       "\t n02423022 & gazelle         & 9.710911e-07\\\\\n",
       "\\end{tabular}\n",
       "\n",
       "\\end{description}\n"
      ],
      "text/markdown": [
       "$bear1.jpeg\n",
       ":   \n",
       "A data.frame: 5 × 3\n",
       "\n",
       "| class_name &lt;chr&gt; | class_description &lt;chr&gt; | score &lt;dbl&gt; |\n",
       "|---|---|---|\n",
       "| n02132136 | brown_bear          | 9.983271e-01 |\n",
       "| n02133161 | American_black_bear | 9.804289e-04 |\n",
       "| n02504013 | Indian_elephant     | 1.942050e-04 |\n",
       "| n02134418 | sloth_bear          | 7.829728e-05 |\n",
       "| n01871265 | tusker              | 6.653819e-05 |\n",
       "\n",
       "\n",
       "$bear2.jpeg\n",
       ":   \n",
       "A data.frame: 5 × 3\n",
       "\n",
       "| class_name &lt;chr&gt; | class_description &lt;chr&gt; | score &lt;dbl&gt; |\n",
       "|---|---|---|\n",
       "| n02132136 | brown_bear          | 9.994561e-01 |\n",
       "| n02437312 | Arabian_camel       | 1.399826e-04 |\n",
       "| n02410509 | bison               | 1.260052e-04 |\n",
       "| n02133161 | American_black_bear | 3.473239e-05 |\n",
       "| n02112137 | chow                | 3.305958e-05 |\n",
       "\n",
       "\n",
       "$`bull dog.jpeg`\n",
       ":   \n",
       "A data.frame: 5 × 3\n",
       "\n",
       "| class_name &lt;chr&gt; | class_description &lt;chr&gt; | score &lt;dbl&gt; |\n",
       "|---|---|---|\n",
       "| n02093428 | American_Staffordshire_terrier | 0.80314577 |\n",
       "| n02087394 | Rhodesian_ridgeback            | 0.08103683 |\n",
       "| n02100583 | vizsla                         | 0.06271304 |\n",
       "| n02105412 | kelpie                         | 0.03468334 |\n",
       "| n02099849 | Chesapeake_Bay_retriever       | 0.01001645 |\n",
       "\n",
       "\n",
       "$cat.jpeg\n",
       ":   \n",
       "A data.frame: 5 × 3\n",
       "\n",
       "| class_name &lt;chr&gt; | class_description &lt;chr&gt; | score &lt;dbl&gt; |\n",
       "|---|---|---|\n",
       "| n02123159 | tiger_cat     | 0.409328610 |\n",
       "| n02124075 | Egyptian_cat  | 0.323106885 |\n",
       "| n02123045 | tabby         | 0.249603629 |\n",
       "| n02127052 | lynx          | 0.004285372 |\n",
       "| n04589890 | window_screen | 0.002157560 |\n",
       "\n",
       "\n",
       "$cat2.jpeg\n",
       ":   \n",
       "A data.frame: 5 × 3\n",
       "\n",
       "| class_name &lt;chr&gt; | class_description &lt;chr&gt; | score &lt;dbl&gt; |\n",
       "|---|---|---|\n",
       "| n02127052 | lynx         | 0.657612503 |\n",
       "| n02123045 | tabby        | 0.176928356 |\n",
       "| n02124075 | Egyptian_cat | 0.076254085 |\n",
       "| n02123159 | tiger_cat    | 0.072994851 |\n",
       "| n02128757 | snow_leopard | 0.004139737 |\n",
       "\n",
       "\n",
       "$cow1.jpeg\n",
       ":   \n",
       "A data.frame: 5 × 3\n",
       "\n",
       "| class_name &lt;chr&gt; | class_description &lt;chr&gt; | score &lt;dbl&gt; |\n",
       "|---|---|---|\n",
       "| n02403003 | ox           | 0.72211969 |\n",
       "| n02412080 | ram          | 0.04176744 |\n",
       "| n02389026 | sorrel       | 0.04012486 |\n",
       "| n02398521 | hippopotamus | 0.03507461 |\n",
       "| n03868242 | oxcart       | 0.03093151 |\n",
       "\n",
       "\n",
       "$cow2.jpeg\n",
       ":   \n",
       "A data.frame: 5 × 3\n",
       "\n",
       "| class_name &lt;chr&gt; | class_description &lt;chr&gt; | score &lt;dbl&gt; |\n",
       "|---|---|---|\n",
       "| n02403003 | ox          | 0.49725905 |\n",
       "| n01582220 | magpie      | 0.24009100 |\n",
       "| n02412080 | ram         | 0.05741597 |\n",
       "| n02437616 | llama       | 0.03806624 |\n",
       "| n02002724 | black_stork | 0.02035809 |\n",
       "\n",
       "\n",
       "$lab.jpeg\n",
       ":   \n",
       "A data.frame: 5 × 3\n",
       "\n",
       "| class_name &lt;chr&gt; | class_description &lt;chr&gt; | score &lt;dbl&gt; |\n",
       "|---|---|---|\n",
       "| n02099712 | Labrador_retriever  | 0.47187251 |\n",
       "| n02099601 | golden_retriever    | 0.42569271 |\n",
       "| n02088466 | bloodhound          | 0.02214054 |\n",
       "| n02109047 | Great_Dane          | 0.01656094 |\n",
       "| n02087394 | Rhodesian_ridgeback | 0.01410496 |\n",
       "\n",
       "\n",
       "$zebra.jpeg\n",
       ":   \n",
       "A data.frame: 5 × 3\n",
       "\n",
       "| class_name &lt;chr&gt; | class_description &lt;chr&gt; | score &lt;dbl&gt; |\n",
       "|---|---|---|\n",
       "| n02391049 | zebra           | 0.9951559305 |\n",
       "| n01798484 | prairie_chicken | 0.0010698679 |\n",
       "| n02423022 | gazelle         | 0.0007163025 |\n",
       "| n02422106 | hartebeest      | 0.0003950584 |\n",
       "| n02129604 | tiger           | 0.0003688071 |\n",
       "\n",
       "\n",
       "$zebra2.jpeg\n",
       ":   \n",
       "A data.frame: 5 × 3\n",
       "\n",
       "| class_name &lt;chr&gt; | class_description &lt;chr&gt; | score &lt;dbl&gt; |\n",
       "|---|---|---|\n",
       "| n02391049 | zebra           | 9.999850e-01 |\n",
       "| n02643566 | lionfish        | 6.445944e-06 |\n",
       "| n02422699 | impala          | 1.501251e-06 |\n",
       "| n01798484 | prairie_chicken | 1.404495e-06 |\n",
       "| n02423022 | gazelle         | 9.710911e-07 |\n",
       "\n",
       "\n",
       "\n",
       "\n"
      ],
      "text/plain": [
       "$bear1.jpeg\n",
       "  class_name   class_description        score\n",
       "1  n02132136          brown_bear 9.983271e-01\n",
       "2  n02133161 American_black_bear 9.804289e-04\n",
       "3  n02504013     Indian_elephant 1.942050e-04\n",
       "4  n02134418          sloth_bear 7.829728e-05\n",
       "5  n01871265              tusker 6.653819e-05\n",
       "\n",
       "$bear2.jpeg\n",
       "  class_name   class_description        score\n",
       "1  n02132136          brown_bear 9.994561e-01\n",
       "2  n02437312       Arabian_camel 1.399826e-04\n",
       "3  n02410509               bison 1.260052e-04\n",
       "4  n02133161 American_black_bear 3.473239e-05\n",
       "5  n02112137                chow 3.305958e-05\n",
       "\n",
       "$`bull dog.jpeg`\n",
       "  class_name              class_description      score\n",
       "1  n02093428 American_Staffordshire_terrier 0.80314577\n",
       "2  n02087394            Rhodesian_ridgeback 0.08103683\n",
       "3  n02100583                         vizsla 0.06271304\n",
       "4  n02105412                         kelpie 0.03468334\n",
       "5  n02099849       Chesapeake_Bay_retriever 0.01001645\n",
       "\n",
       "$cat.jpeg\n",
       "  class_name class_description       score\n",
       "1  n02123159         tiger_cat 0.409328610\n",
       "2  n02124075      Egyptian_cat 0.323106885\n",
       "3  n02123045             tabby 0.249603629\n",
       "4  n02127052              lynx 0.004285372\n",
       "5  n04589890     window_screen 0.002157560\n",
       "\n",
       "$cat2.jpeg\n",
       "  class_name class_description       score\n",
       "1  n02127052              lynx 0.657612503\n",
       "2  n02123045             tabby 0.176928356\n",
       "3  n02124075      Egyptian_cat 0.076254085\n",
       "4  n02123159         tiger_cat 0.072994851\n",
       "5  n02128757      snow_leopard 0.004139737\n",
       "\n",
       "$cow1.jpeg\n",
       "  class_name class_description      score\n",
       "1  n02403003                ox 0.72211969\n",
       "2  n02412080               ram 0.04176744\n",
       "3  n02389026            sorrel 0.04012486\n",
       "4  n02398521      hippopotamus 0.03507461\n",
       "5  n03868242            oxcart 0.03093151\n",
       "\n",
       "$cow2.jpeg\n",
       "  class_name class_description      score\n",
       "1  n02403003                ox 0.49725905\n",
       "2  n01582220            magpie 0.24009100\n",
       "3  n02412080               ram 0.05741597\n",
       "4  n02437616             llama 0.03806624\n",
       "5  n02002724       black_stork 0.02035809\n",
       "\n",
       "$lab.jpeg\n",
       "  class_name   class_description      score\n",
       "1  n02099712  Labrador_retriever 0.47187251\n",
       "2  n02099601    golden_retriever 0.42569271\n",
       "3  n02088466          bloodhound 0.02214054\n",
       "4  n02109047          Great_Dane 0.01656094\n",
       "5  n02087394 Rhodesian_ridgeback 0.01410496\n",
       "\n",
       "$zebra.jpeg\n",
       "  class_name class_description        score\n",
       "1  n02391049             zebra 0.9951559305\n",
       "2  n01798484   prairie_chicken 0.0010698679\n",
       "3  n02423022           gazelle 0.0007163025\n",
       "4  n02422106        hartebeest 0.0003950584\n",
       "5  n02129604             tiger 0.0003688071\n",
       "\n",
       "$zebra2.jpeg\n",
       "  class_name class_description        score\n",
       "1  n02391049             zebra 9.999850e-01\n",
       "2  n02643566          lionfish 6.445944e-06\n",
       "3  n02422699            impala 1.501251e-06\n",
       "4  n01798484   prairie_chicken 1.404495e-06\n",
       "5  n02423022           gazelle 9.710911e-07\n"
      ]
     },
     "metadata": {},
     "output_type": "display_data"
    }
   ],
   "source": [
    "model_predict <- model %>% predict(x) %>%\n",
    " imagenet_decode_predictions(top = 5)\n",
    "names(model_predict) <- image_names\n",
    "model_predict"
   ]
  },
  {
   "cell_type": "markdown",
   "id": "40608ef9",
   "metadata": {},
   "source": [
    "When two items are identical, the image classifier has problems classifying them. For instance, the model was able to recognize a cat in image 4 but became perplexed as to what kind of cat it was, thus it discriminated it amongst three different varieties. The dog and cow picture exhibits a similar level of perplexity."
   ]
  }
 ],
 "metadata": {
  "kernelspec": {
   "display_name": "R",
   "language": "R",
   "name": "ir"
  },
  "language_info": {
   "codemirror_mode": "r",
   "file_extension": ".r",
   "mimetype": "text/x-r-source",
   "name": "R",
   "pygments_lexer": "r",
   "version": "4.2.1"
  }
 },
 "nbformat": 4,
 "nbformat_minor": 5
}
